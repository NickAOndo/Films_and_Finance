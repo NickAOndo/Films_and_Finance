{
 "cells": [
  {
   "cell_type": "markdown",
   "metadata": {},
   "source": [
    "### Author: Nicholas A. Ondo\n",
    "### License: MIT\n",
    "\n",
    "---\n",
    "# Scraping BoxOfficeMojo\n",
    "\n",
    "I will be scraping BoxOfficeMojo using the following logic:\n",
    "\n",
    "1. Scrape the pages containing the movies per year, iterating over years and then the pages per year, to create a list of links to the movies that year.\n",
    "2. Iterate over the list of movies, scraping out the basic information I want (e.g. ).\n",
    "3. Do basic sanity checks that the data has been successfully scraped from the website."
   ]
  },
  {
   "cell_type": "code",
   "execution_count": 1,
   "metadata": {},
   "outputs": [],
   "source": [
    "import requests\n",
    "import numpy as np\n",
    "import pandas as pd\n",
    "from bs4 import BeautifulSoup\n",
    "import re\n",
    "import time"
   ]
  },
  {
   "cell_type": "markdown",
   "metadata": {},
   "source": [
    "---\n",
    "# Part I: Scraping the Yearly List of Movies\n",
    "\n",
    "Useful notes:\n",
    "\n",
    "1. So BoxOfficeMojo (henceforth BOM) has a standardized URL for accessing yearly data, namely:\n",
    "\n",
    "```\n",
    "http://www.boxofficemojo.com/yearly/chart/?page=1&view=releasedate&yr=1980\n",
    "```\n",
    "\n",
    "which is easily controlled via the ```page=``` and  ```yr=``` flags.  These can be iterated over easily in Python.\n",
    "\n",
    "2. The database ranges from 1980 (for domestic) and 1990 (for international) grosses.  There's a choice on how far back to use, but for convenience sake, I will grab it all now and decide later.\n",
    "\n",
    "3. It's easiest just to look for regex patterns ```/movies/?id=``` since this is the pattern for (although it turns out we'll need to ignore the first entry)."
   ]
  },
  {
   "cell_type": "code",
   "execution_count": null,
   "metadata": {},
   "outputs": [],
   "source": [
    "url = \"http://www.boxofficemojo.com/yearly/chart/?page=5&view=releasedate&yr=1999\"\n",
    "response = requests.get(url)\n",
    "\n",
    "response.status_code"
   ]
  },
  {
   "cell_type": "markdown",
   "metadata": {},
   "source": [
    "## Scraping the list of movies from a single given page."
   ]
  },
  {
   "cell_type": "code",
   "execution_count": null,
   "metadata": {},
   "outputs": [],
   "source": [
    "soup = BeautifulSoup(response.text, \"lxml\")\n",
    "\n",
    "print(len(soup.find_all(\"a\", href=True)))\n",
    "\n",
    "# NOTE: I chose page 5 for demonstration purposes, there aren't supposed to be any movies here."
   ]
  },
  {
   "cell_type": "code",
   "execution_count": null,
   "metadata": {},
   "outputs": [],
   "source": [
    "movie_pattern = re.compile(r\"/movies/\\?id=\")\n",
    "\n",
    "movie_urls = []\n",
    "for tag in soup.find_all('a', href=True):\n",
    "    match = movie_pattern.search(tag[\"href\"])\n",
    "\n",
    "    if match is not None:\n",
    "        movie_urls.append(tag[\"href\"])\n",
    "        \n",
    "movie_urls"
   ]
  },
  {
   "cell_type": "markdown",
   "metadata": {},
   "source": [
    "Notice that without killing the zeroeth entry, the first movie is from 2018, and it's because BOM has this practice of putting the current top grossing film in theaters now at the top of the page.  So we can outright ignore the first entry on every single page."
   ]
  },
  {
   "cell_type": "code",
   "execution_count": null,
   "metadata": {},
   "outputs": [],
   "source": [
    "movie_urls = movie_urls[1:]\n",
    "\n",
    "movie_urls"
   ]
  },
  {
   "cell_type": "markdown",
   "metadata": {},
   "source": [
    "Looking it over, it seems like the others are totally fine, so I will wait until I scrape more to see if it is a problem on other pages."
   ]
  },
  {
   "cell_type": "markdown",
   "metadata": {},
   "source": [
    "## Looping through a given year to scrape all of the movies that year"
   ]
  },
  {
   "cell_type": "code",
   "execution_count": 19,
   "metadata": {},
   "outputs": [],
   "source": [
    "def scrape_movie_urls(year, page):\n",
    "    url = f\"http://www.boxofficemojo.com/yearly/chart/?page={page}&yr={year}\"\n",
    "    response = requests.get(url)\n",
    "    \n",
    "    if response.status_code != 200:\n",
    "        print(f\"CONNECTION FAILED: year={year} at page={page}\")\n",
    "        return None\n",
    "    \n",
    "    soup = BeautifulSoup(response.text, \"lxml\")\n",
    "    movie_pattern = re.compile(r\"/movies/\\?id=\")\n",
    "    \n",
    "    movie_urls = []\n",
    "    for tag in soup.find_all('a', href=True):\n",
    "        match = movie_pattern.search(tag[\"href\"])\n",
    "\n",
    "        if match is not None:\n",
    "            movie_urls += [tag[\"href\"] + \"\\n\"]\n",
    "\n",
    "    return movie_urls[1:]\n",
    "\n",
    "\n",
    "#scrape_movie_urls(\"1980\", \"1\")"
   ]
  },
  {
   "cell_type": "code",
   "execution_count": null,
   "metadata": {},
   "outputs": [],
   "source": [
    "years = [year for year in range(1980,2019)]\n",
    "pages = [page for page in range(1,5)]\n",
    "\n",
    "def scrape_all_movie_urls():\n",
    "    # This is only 60 pages or so, I do not believe I will need to worry about page limiting.\n",
    "    with open(\"movie_urls.txt\", \"w\") as f:\n",
    "        for year in years:\n",
    "            for page in pages:\n",
    "                try:\n",
    "                    urls = scrape_movie_urls(year, page)\n",
    "                except:\n",
    "                    urls = [f\"FAILED: year={year}, page={page}.  Try this again.\\n\"]\n",
    "\n",
    "                f.writelines(urls)\n",
    "\n",
    "def load_movie_urls():\n",
    "    try:\n",
    "        with open(\"movie_urls.txt\", \"r\") as f:\n",
    "            urls = f.readlines()\n",
    "    except:\n",
    "        urls = scrape_all_movies_urls()\n",
    "        \n",
    "    return urls\n",
    "        \n",
    "movie_urls = load_movie_urls()\n",
    "\n",
    "movie_urls[:10]"
   ]
  },
  {
   "cell_type": "markdown",
   "metadata": {},
   "source": [
    "__N.B.__ Note that there are no fails, we have grabbed all of the website URL's!"
   ]
  },
  {
   "cell_type": "code",
   "execution_count": 2,
   "metadata": {},
   "outputs": [],
   "source": [
    "def scrape_top_table(soup, identifier):                               \n",
    "    for table_tag in soup.find_all(\"table\", bgcolor=True):             # <table> loop\n",
    "        for td_tag in table_tag.find_all(\"td\"):                        # <td> loop\n",
    "            if identifier in td_tag.text:                              # check query condition\n",
    "                return (td_tag.text\n",
    "                        .replace(identifier, \"\")\n",
    "                        .replace(\":\", \"\").strip())\n",
    "\n",
    "\n",
    "def scrape_player_table(somesoup, player):\n",
    "    player_names = []\n",
    "    for some_divtag in soup.find_all(\"div\", class_=\"mp_box_content\"):   # <div> loop\n",
    "        table_tag = some_divtag.find(\"table\")                           # <table> loop\n",
    "        for tr_tag in table_tag.find_all(\"tr\"):                         # <tr> loop\n",
    "            if tr_tag is not None and player in tr_tag.text.strip():    # player query condition\n",
    "                for a_tag in tr_tag.find_all(\"a\", href=True):           # <a> loop\n",
    "                    if \"*\" not in a_tag.text:                           # don't grab minor roles\n",
    "                        player_names.append(a_tag.text.strip())         # Add the value, including name\n",
    "                break\n",
    "\n",
    "    if player_names[1:] != []:\n",
    "        return \",\".join(player_names[1:])\n",
    "    else:\n",
    "        return \"N/A\"\n"
   ]
  },
  {
   "cell_type": "code",
   "execution_count": 3,
   "metadata": {},
   "outputs": [
    {
     "data": {
      "text/plain": [
       "'\\n\\n\\nAustin Powers: The Spy Who Shagged Me (1999) - Box Office Mojo\\n\\ntable.chart-wide { width: 100%; }\\n\\n\\n\\n\\n\\n\\n\\n\\n\\n\\n    setTimeout(function(){\\n        try{\\n            //sis3.0 pixel\\n            var cacheBust = Math.random() * 10000000000000000,\\n                url_sis3 = \\'http://s.amazon-adsystem.com/iu3?\\',\\n                params_sis3 = [\\n                    \"d=boxofficemojo.com\",\\n                    \"cb=\" + cacheBust\\n                ];\\n\\n            (document.getElementById(\\'sis_pixel_sitewide\\')).src = url_sis3 + params_sis3.join(\\'&\\');\\n        }catch(e){\\n            if (window.ueLogError) { \\n                window.ueLogError(e);\\n            }\\n        }\\n    }, 5);\\n\\n\\n\\n\\n    var googletag = googletag || {};\\n    googletag.cmd = googletag.cmd || [];\\n\\n    (function() {\\n        var gads = document.createElement(\"script\");\\n        gads.async = true;\\n        gads.type = \"text/javascript\";\\n\\n        var useSSL = \"https:\" == document.location.protocol;\\n        gads.src = (useSSL ? \"https:\" : \"http:\") +'"
      ]
     },
     "execution_count": 3,
     "metadata": {},
     "output_type": "execute_result"
    }
   ],
   "source": [
    "# Some auxiliary stuff:\n",
    "get_soup_from = lambda _url : BeautifulSoup(requests.get(\"http://www.boxofficemojo.com\" + _url.strip()).text, \"lxml\")\n",
    "\n",
    "url1 = \"/movies/?id=starwars5.htm\"       # 1980\n",
    "url2 = \"/movies/?id=austinpowers2.htm\"   # 1999\n",
    "url3 = \"/movies/?id=toystory2.htm\"       # 1999\n",
    "url4 = \"/movies/?id=indianajones4.htm\"   # 2008\n",
    "url5 = \"/movies/?id=aquietplace.htm\"     # 2018\n",
    "\n",
    "soup = BeautifulSoup(requests.get(\"http://www.boxofficemojo.com\" + url2.strip()).text, \"lxml\")\n",
    "\n",
    "soup.text[:1000]"
   ]
  },
  {
   "cell_type": "code",
   "execution_count": 4,
   "metadata": {},
   "outputs": [
    {
     "data": {
      "text/html": [
       "<div>\n",
       "<style scoped>\n",
       "    .dataframe tbody tr th:only-of-type {\n",
       "        vertical-align: middle;\n",
       "    }\n",
       "\n",
       "    .dataframe tbody tr th {\n",
       "        vertical-align: top;\n",
       "    }\n",
       "\n",
       "    .dataframe thead th {\n",
       "        text-align: right;\n",
       "    }\n",
       "</style>\n",
       "<table border=\"1\" class=\"dataframe\">\n",
       "  <thead>\n",
       "    <tr style=\"text-align: right;\">\n",
       "      <th></th>\n",
       "      <th>Name</th>\n",
       "      <th>Domestic Total Gross</th>\n",
       "      <th>Distributor</th>\n",
       "      <th>Genre</th>\n",
       "      <th>MPAA Rating</th>\n",
       "      <th>Release Date</th>\n",
       "      <th>Runtime</th>\n",
       "      <th>Production Budget</th>\n",
       "      <th>Director</th>\n",
       "      <th>Producer</th>\n",
       "      <th>Actor</th>\n",
       "    </tr>\n",
       "  </thead>\n",
       "  <tbody>\n",
       "    <tr>\n",
       "      <th>0</th>\n",
       "      <td>Indiana Jones and the Kingdom of the Crystal S...</td>\n",
       "      <td>$317,101,119</td>\n",
       "      <td>Paramount</td>\n",
       "      <td>Period Adventure</td>\n",
       "      <td>PG-13</td>\n",
       "      <td>May 22, 2008</td>\n",
       "      <td>2 hrs. 0 min.</td>\n",
       "      <td>$185 million</td>\n",
       "      <td>Steven Spielberg</td>\n",
       "      <td>George Lucas,Frank Marshall</td>\n",
       "      <td>Harrison Ford,Cate Blanchett,Shia LaBeouf</td>\n",
       "    </tr>\n",
       "  </tbody>\n",
       "</table>\n",
       "</div>"
      ],
      "text/plain": [
       "                                                Name Domestic Total Gross  \\\n",
       "0  Indiana Jones and the Kingdom of the Crystal S...         $317,101,119   \n",
       "\n",
       "  Distributor             Genre MPAA Rating  Release Date        Runtime  \\\n",
       "0   Paramount  Period Adventure       PG-13  May 22, 2008  2 hrs. 0 min.   \n",
       "\n",
       "  Production Budget          Director                     Producer  \\\n",
       "0      $185 million  Steven Spielberg  George Lucas,Frank Marshall   \n",
       "\n",
       "                                       Actor  \n",
       "0  Harrison Ford,Cate Blanchett,Shia LaBeouf  "
      ]
     },
     "execution_count": 4,
     "metadata": {},
     "output_type": "execute_result"
    }
   ],
   "source": [
    "# Write a function that then pulls all of these properties from a soup\n",
    "\n",
    "def scrape_all_movdata(soup):\n",
    "    mov_attribs = [\"Domestic Total Gross\", \"Distributor\", \"Genre\",\n",
    "                   \"MPAA Rating\", \"Release Date\", \"Runtime\", \"Production Budget\"]\n",
    "    players = [\"Director\", \"Producer\", \"Actor\"]\n",
    "    \n",
    "    vals = {}\n",
    "    vals[\"Name\"] = soup.find(\"title\").text[:-25]\n",
    "    \n",
    "    for id_text in mov_attribs:\n",
    "        vals[id_text] = [scrape_top_table(soup, id_text)]\n",
    "\n",
    "    for player in players:\n",
    "        vals[player] = scrape_player_table(soup, player)\n",
    "\n",
    "    return pd.DataFrame(vals)\n",
    "\n",
    "soup = get_soup_from(url4)\n",
    "df = scrape_all_movdata(soup)\n",
    "\n",
    "df"
   ]
  },
  {
   "cell_type": "code",
   "execution_count": 16,
   "metadata": {},
   "outputs": [],
   "source": [
    "def scrape_and_make_df(urls, dt=0.25):\n",
    "    get_soup_from = lambda _url : BeautifulSoup(\n",
    "        requests.get(\"http://www.boxofficemojo.com\" + _url.strip()).text, \"lxml\")\n",
    "    \n",
    "    movie_dfs = []\n",
    "    for url in urls:\n",
    "        # Grab the data at each URL\n",
    "        a_soup = get_soup_from(url)\n",
    "        movie_dfs.append(scrape_all_movdata(a_soup))\n",
    "\n",
    "        # Wait for irregular intervals\n",
    "        time.sleep(np.random.uniform(high=dt))\n",
    "\n",
    "    return pd.concat(movie_dfs, ignore_index=True)\n"
   ]
  },
  {
   "cell_type": "code",
   "execution_count": 26,
   "metadata": {},
   "outputs": [],
   "source": [
    "def scrape_movieyearly_df(year):\n",
    "    pages = [page for page in range(1,5)]\n",
    "    urls = []\n",
    "    for page in pages:\n",
    "        urls += scrape_movie_urls(year, page)\n",
    "    \n",
    "    return scrape_and_make_df([url.strip() for url in urls])\n"
   ]
  },
  {
   "cell_type": "code",
   "execution_count": 27,
   "metadata": {},
   "outputs": [],
   "source": [
    "movies1980_df = scrape_movieyearly_df(\"1980\")\n"
   ]
  },
  {
   "cell_type": "code",
   "execution_count": 28,
   "metadata": {},
   "outputs": [
    {
     "data": {
      "text/html": [
       "<div>\n",
       "<style scoped>\n",
       "    .dataframe tbody tr th:only-of-type {\n",
       "        vertical-align: middle;\n",
       "    }\n",
       "\n",
       "    .dataframe tbody tr th {\n",
       "        vertical-align: top;\n",
       "    }\n",
       "\n",
       "    .dataframe thead th {\n",
       "        text-align: right;\n",
       "    }\n",
       "</style>\n",
       "<table border=\"1\" class=\"dataframe\">\n",
       "  <thead>\n",
       "    <tr style=\"text-align: right;\">\n",
       "      <th></th>\n",
       "      <th>Name</th>\n",
       "      <th>Domestic Total Gross</th>\n",
       "      <th>Distributor</th>\n",
       "      <th>Genre</th>\n",
       "      <th>MPAA Rating</th>\n",
       "      <th>Release Date</th>\n",
       "      <th>Runtime</th>\n",
       "      <th>Production Budget</th>\n",
       "      <th>Director</th>\n",
       "      <th>Producer</th>\n",
       "      <th>Actor</th>\n",
       "    </tr>\n",
       "  </thead>\n",
       "  <tbody>\n",
       "    <tr>\n",
       "      <th>0</th>\n",
       "      <td>The Empire Strikes Back</td>\n",
       "      <td>$209,398,025Domestic Lifetime Gross $290,475,067</td>\n",
       "      <td>Fox</td>\n",
       "      <td>Sci-Fi Fantasy</td>\n",
       "      <td>PG</td>\n",
       "      <td>May 21, 1980</td>\n",
       "      <td>2 hrs. 9 min.</td>\n",
       "      <td>$18 million</td>\n",
       "      <td>Steven Spielberg</td>\n",
       "      <td>George Lucas,Frank Marshall</td>\n",
       "      <td>Harrison Ford,Cate Blanchett,Shia LaBeouf</td>\n",
       "    </tr>\n",
       "    <tr>\n",
       "      <th>1</th>\n",
       "      <td>9 to 5</td>\n",
       "      <td>$103,290,500</td>\n",
       "      <td>Fox</td>\n",
       "      <td>Comedy</td>\n",
       "      <td>PG</td>\n",
       "      <td>December 19, 1980</td>\n",
       "      <td>1 hrs. 50 min.</td>\n",
       "      <td>N/A</td>\n",
       "      <td>Steven Spielberg</td>\n",
       "      <td>George Lucas,Frank Marshall</td>\n",
       "      <td>Harrison Ford,Cate Blanchett,Shia LaBeouf</td>\n",
       "    </tr>\n",
       "    <tr>\n",
       "      <th>2</th>\n",
       "      <td>Stir Crazy</td>\n",
       "      <td>$101,300,000</td>\n",
       "      <td>Columbia</td>\n",
       "      <td>Comedy</td>\n",
       "      <td>R</td>\n",
       "      <td>December 12, 1980</td>\n",
       "      <td>1 hrs. 51 min.</td>\n",
       "      <td>N/A</td>\n",
       "      <td>Steven Spielberg</td>\n",
       "      <td>George Lucas,Frank Marshall</td>\n",
       "      <td>Harrison Ford,Cate Blanchett,Shia LaBeouf</td>\n",
       "    </tr>\n",
       "    <tr>\n",
       "      <th>3</th>\n",
       "      <td>Airplane!</td>\n",
       "      <td>$83,453,539</td>\n",
       "      <td>Paramount</td>\n",
       "      <td>Comedy</td>\n",
       "      <td>PG</td>\n",
       "      <td>June 27, 1980</td>\n",
       "      <td>1 hrs. 28 min.</td>\n",
       "      <td>$3.5 million</td>\n",
       "      <td>Steven Spielberg</td>\n",
       "      <td>George Lucas,Frank Marshall</td>\n",
       "      <td>Harrison Ford,Cate Blanchett,Shia LaBeouf</td>\n",
       "    </tr>\n",
       "    <tr>\n",
       "      <th>4</th>\n",
       "      <td>Any Which Way You Can</td>\n",
       "      <td>$70,687,344</td>\n",
       "      <td>Warner Bros.</td>\n",
       "      <td>Action Comedy</td>\n",
       "      <td>PG</td>\n",
       "      <td>December 17, 1980</td>\n",
       "      <td>1 hrs. 56 min.</td>\n",
       "      <td>N/A</td>\n",
       "      <td>Steven Spielberg</td>\n",
       "      <td>George Lucas,Frank Marshall</td>\n",
       "      <td>Harrison Ford,Cate Blanchett,Shia LaBeouf</td>\n",
       "    </tr>\n",
       "  </tbody>\n",
       "</table>\n",
       "</div>"
      ],
      "text/plain": [
       "                      Name                              Domestic Total Gross  \\\n",
       "0  The Empire Strikes Back  $209,398,025Domestic Lifetime Gross $290,475,067   \n",
       "1                   9 to 5                                      $103,290,500   \n",
       "2               Stir Crazy                                      $101,300,000   \n",
       "3                Airplane!                                       $83,453,539   \n",
       "4    Any Which Way You Can                                       $70,687,344   \n",
       "\n",
       "    Distributor           Genre MPAA Rating       Release Date  \\\n",
       "0           Fox  Sci-Fi Fantasy          PG       May 21, 1980   \n",
       "1           Fox          Comedy          PG  December 19, 1980   \n",
       "2      Columbia          Comedy           R  December 12, 1980   \n",
       "3     Paramount          Comedy          PG      June 27, 1980   \n",
       "4  Warner Bros.   Action Comedy          PG  December 17, 1980   \n",
       "\n",
       "          Runtime Production Budget          Director  \\\n",
       "0   2 hrs. 9 min.       $18 million  Steven Spielberg   \n",
       "1  1 hrs. 50 min.               N/A  Steven Spielberg   \n",
       "2  1 hrs. 51 min.               N/A  Steven Spielberg   \n",
       "3  1 hrs. 28 min.      $3.5 million  Steven Spielberg   \n",
       "4  1 hrs. 56 min.               N/A  Steven Spielberg   \n",
       "\n",
       "                      Producer                                      Actor  \n",
       "0  George Lucas,Frank Marshall  Harrison Ford,Cate Blanchett,Shia LaBeouf  \n",
       "1  George Lucas,Frank Marshall  Harrison Ford,Cate Blanchett,Shia LaBeouf  \n",
       "2  George Lucas,Frank Marshall  Harrison Ford,Cate Blanchett,Shia LaBeouf  \n",
       "3  George Lucas,Frank Marshall  Harrison Ford,Cate Blanchett,Shia LaBeouf  \n",
       "4  George Lucas,Frank Marshall  Harrison Ford,Cate Blanchett,Shia LaBeouf  "
      ]
     },
     "execution_count": 28,
     "metadata": {},
     "output_type": "execute_result"
    }
   ],
   "source": [
    "movies1980_df.head()"
   ]
  },
  {
   "cell_type": "code",
   "execution_count": 29,
   "metadata": {},
   "outputs": [],
   "source": [
    "movies1980_df.to_csv(\"movies_1980.csv\")"
   ]
  },
  {
   "cell_type": "code",
   "execution_count": null,
   "metadata": {},
   "outputs": [],
   "source": []
  }
 ],
 "metadata": {
  "kernelspec": {
   "display_name": "Python 3",
   "language": "python",
   "name": "python3"
  },
  "language_info": {
   "codemirror_mode": {
    "name": "ipython",
    "version": 3
   },
   "file_extension": ".py",
   "mimetype": "text/x-python",
   "name": "python",
   "nbconvert_exporter": "python",
   "pygments_lexer": "ipython3",
   "version": "3.6.5"
  }
 },
 "nbformat": 4,
 "nbformat_minor": 2
}
