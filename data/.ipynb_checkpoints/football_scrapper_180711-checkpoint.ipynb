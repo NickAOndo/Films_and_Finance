{
 "cells": [
  {
   "cell_type": "markdown",
   "metadata": {},
   "source": [
    "## Approach 1"
   ]
  },
  {
   "cell_type": "code",
   "execution_count": 1,
   "metadata": {},
   "outputs": [],
   "source": [
    "from __future__ import print_function, division\n",
    "import requests\n",
    "from bs4 import BeautifulSoup\n",
    "import re"
   ]
  },
  {
   "cell_type": "code",
   "execution_count": 2,
   "metadata": {},
   "outputs": [],
   "source": [
    "url = 'https://fbref.com/en/players/'\n",
    "response = requests.get(url)"
   ]
  },
  {
   "cell_type": "code",
   "execution_count": 3,
   "metadata": {},
   "outputs": [
    {
     "data": {
      "text/plain": [
       "200"
      ]
     },
     "execution_count": 3,
     "metadata": {},
     "output_type": "execute_result"
    }
   ],
   "source": [
    "response.status_code"
   ]
  },
  {
   "cell_type": "code",
   "execution_count": 4,
   "metadata": {},
   "outputs": [
    {
     "name": "stdout",
     "output_type": "stream",
     "text": [
      "\n",
      "<!DOCTYPE html>\n",
      "<html data-version=\"klecko-\" data-root=\"/home/fb/www\" itemscope itemtype=\"https://schema.org/WebSite\" lang=\"en\" class=\"no-js\" >\n",
      "<head>\n",
      "    <meta charset=\"utf-8\">\n",
      "    <meta http-equiv=\"x-ua-compatible\" content=\"ie=edge\">\n",
      "    <meta name=\"viewport\" content=\"width=device-width, initial-scale=1.0, maximum-scale=2.0\" />\n",
      "    <link rel=\"dns-prefetch\" href=\"https://d2p3bygnnzw9w3.cloudfront.net/req/201807061\" />\n",
      "\n",
      "<!-- no:cookie fast load the css.           -->\n",
      "<link rel=\"preconnect\" href=\"https://d2p3bygnnzw9w3.cloudfront.net\" crossorigin>\n",
      "<link rel=\"preconnect\" href=\"https://d6rt22vwfyr3i.cloudfront.net\" crossorigin>\n",
      " <style>html,body{margin:0;padding:0;font:14px/1.25 \"Helvetica Neue\",helvetica,arial,sans-serif;color:#000}body{position:relative;background:#c9cbcd;z-index:0;-webkit-text-size-adjust:none;-moz-text-size-adjust:none;-ms-text-size-adjust:none}a img{border:0}ul,li,ol{margin:0;padding:0;list-style-type:none}table th,table td{border:0}iframe{max-width:100%}code{backgr\n"
     ]
    }
   ],
   "source": [
    "print(response.text[:1000])"
   ]
  },
  {
   "cell_type": "code",
   "execution_count": 6,
   "metadata": {},
   "outputs": [],
   "source": [
    "page = response.text"
   ]
  },
  {
   "cell_type": "code",
   "execution_count": 7,
   "metadata": {},
   "outputs": [],
   "source": [
    "soup = BeautifulSoup(page, \"lxml\")\n",
    "#print(soup)"
   ]
  },
  {
   "cell_type": "code",
   "execution_count": null,
   "metadata": {},
   "outputs": [],
   "source": [
    "print(soup.prettify())"
   ]
  },
  {
   "cell_type": "code",
   "execution_count": 8,
   "metadata": {},
   "outputs": [
    {
     "data": {
      "text/plain": [
       "346"
      ]
     },
     "execution_count": 8,
     "metadata": {},
     "output_type": "execute_result"
    }
   ],
   "source": [
    "len(soup.find_all('a'))"
   ]
  },
  {
   "cell_type": "code",
   "execution_count": 63,
   "metadata": {},
   "outputs": [
    {
     "name": "stdout",
     "output_type": "stream",
     "text": [
      "<a href=\"https://www.sports-reference.com/\"><svg height=\"15px\" width=\"20px\"><use xlink:href=\"#ic-sr-pennant\"></use></svg> Sports Reference</a>\n",
      "<a href=\"https://www.baseball-reference.com/\">Baseball</a>\n",
      "<a href=\"https://www.pro-football-reference.com/\">Football</a>\n",
      "<a href=\"https://www.sports-reference.com/cfb/\">(college)</a>\n",
      "<a href=\"https://www.basketball-reference.com/\">Basketball</a>\n",
      "<a href=\"https://www.sports-reference.com/cbb/\">(college)</a>\n",
      "<a href=\"https://www.hockey-reference.com/\">Hockey</a>\n",
      "<a href=\"https://fbref.com/\">Soccer</a>\n",
      "<a href=\"https://www.sports-reference.com/blog/\">Blog</a>\n",
      "<a href=\"https://stathead.com/\">Stathead</a>\n",
      "<a href=\"https://widgets.sports-reference.com/\">Widgets</a>\n",
      "<a href=\"https://www.sports-reference.com/feedback/\">Questions or Comments?</a>\n",
      "<a href=\"/my/\">Your Account</a>\n",
      "<a class=\"logout\" href=\"/my/?do=logout\">Logout</a>\n",
      "<a class=\"login\" href=\"/my/\">Login</a>\n",
      "<a href=\"/my/\">Create Account</a>\n",
      "<a href=\"/my/?do=ad_free_browsing\">Surf AD-FREE</a>\n",
      "<a href=\"/\"><img alt=\"FBref.com Logo &amp; Link to home page\" onerror=\"this.src='https://d2p3bygnnzw9w3.cloudfront.net/req/201807061/logos/fb-logo.png'; this.onerror = null;\" src=\"https://d2p3bygnnzw9w3.cloudfront.net/req/201807061/logos/fb-logo.svg\"/></a>\n",
      "<a href=\"#site_menu_link\">MENU</a>\n",
      "<a href=\"/en/players/\">Players</a>\n",
      "<a href=\"/en/squads/\">Clubs</a>\n",
      "<a href=\"/en/comps/\">Seasons</a>\n",
      "<a href=\"/en/squads/country/\">Countries</a>\n",
      "<a href=\"/en/about/email\">FBref Email List</a>\n",
      "<a class=\"opener\" data-scroll=\"\" href=\"#site_menu_link\">Full Site Menu Below</a>\n",
      "<a href=\"/\">FB Home</a>\n",
      "<a href=\"/players/\" itemprop=\"item\"><span itemprop=\"name\">Players</span></a>\n",
      "<a href=\"/my/\">Your Account</a>\n",
      "<a class=\"logout\" href=\"/my/?do=logout\">Logout</a>\n",
      "<a class=\"login\" href=\"/my/\">Login</a>\n",
      "<a href=\"/my/\">Create Account</a>\n",
      "<a href=\"/my/?do=ad_free_browsing\">Surf AD-FREE</a>\n",
      "<a href=\"#coverage\">note below about the leagues and countries we cover and future plans</a>\n",
      "<a href=\"/en/players/931ed5e9/Nicolas-Anelka\">Nicolas Anelka</a>\n",
      "<a href=\"/en/players/7dbbe367/Gareth-Barry\">Gareth Barry</a>\n",
      "<a href=\"/en/players/616b3f9a/Nicky-Butt\">Nicky Butt</a>\n",
      "<a href=\"/en/players/3e3b2fbd/Sol-Campbell\">Sol Campbell</a>\n",
      "<a href=\"/en/players/d0ebce19/Jamie-Carragher\">Jamie Carragher</a>\n",
      "<a href=\"/en/players/ab7263c1/Michael-Carrick\">Michael Carrick</a>\n",
      "<a href=\"/en/players/71672fa0/Petr-Cech\">Petr Čech</a>\n",
      "<a href=\"/en/players/b6638a2c/Andy-Cole\">Andy Cole</a>\n",
      "<a href=\"/en/players/73d9bdc7/Peter-Crouch\">Peter Crouch</a>\n",
      "<a href=\"/en/players/f1e8372d/Jermain-Defoe\">Jermain Defoe</a>\n",
      "<a href=\"/en/players/52465662/Rio-Ferdinand\">Rio Ferdinand</a>\n",
      "<a href=\"/en/players/7cd34266/Robbie-Fowler\">Robbie Fowler</a>\n",
      "<a href=\"/en/players/caeb5442/Steven-Gerrard\">Steven Gerrard</a>\n",
      "<a href=\"/en/players/561de8d0/Ryan-Giggs\">Ryan Giggs</a>\n",
      "<a href=\"/en/players/30184789/Emile-Heskey\">Emile Heskey</a>\n",
      "<a href=\"/en/players/86841dfb/David-James\">David James</a>\n",
      "<a href=\"/en/players/268df6b1/Frank-Lampard\">Frank Lampard</a>\n",
      "<a href=\"/en/players/2f90f6b8/James-Milner\">James Milner</a>\n",
      "<a href=\"/en/players/03a97c40/Danny-Murphy\">Danny Murphy</a>\n",
      "<a href=\"/en/players/1b013e33/Gary-Neville\">Gary Neville</a>\n",
      "<a href=\"/en/players/3db5e0ec/Phil-Neville\">Phil Neville</a>\n",
      "<a href=\"/en/players/88b3f52c/Michael-Owen\">Michael Owen</a>\n",
      "<a href=\"/en/players/f07be45a/Wayne-Rooney\">Wayne Rooney</a>\n",
      "<a href=\"/en/players/24a3a72c/Paul-Scholes\">Paul Scholes</a>\n",
      "<a href=\"/en/players/da409c6f/Mark-Schwarzer\">Mark Schwarzer</a>\n",
      "<a href=\"/en/players/438b3a51/Alan-Shearer\">Alan Shearer</a>\n",
      "<a href=\"/en/players/4e56eef6/Teddy-Sheringham\">Teddy Sheringham</a>\n",
      "<a href=\"/en/players/5ca13d11/Gary-Speed\">Gary Speed</a>\n",
      "<a href=\"/en/players/68517cfd/John-Terry\">John Terry</a>\n",
      "<a href=\"/en/players/2d0a99d3/Dwight-Yorke\">Dwight Yorke</a>\n",
      "<a href=\"/en/players/293211e1/Aritz-Aduriz\">Aritz Aduriz</a>\n",
      "<a href=\"/en/players/def14f68/David-Albelda\">David Albelda</a>\n",
      "<a href=\"/en/players/c9e99e49/Dani-Alves\">Dani Alves</a>\n",
      "<a href=\"/en/players/19058f02/Jose-Antonio-Reyes\">José Antonio Reyes</a>\n",
      "<a href=\"/en/players/70d74ece/Karim-Benzema\">Karim Benzema</a>\n",
      "<a href=\"/en/players/69697a6d/Joan-Capdevila\">Joan Capdevila</a>\n",
      "<a href=\"/en/players/1ddbb0da/Iker-Casillas\">Iker Casillas</a>\n",
      "<a href=\"/en/players/06420c93/Samuel-Etoo\">Samuel Eto'o</a>\n",
      "<a href=\"/en/players/65d750b5/Gabi\">Gabi</a>\n",
      "<a href=\"/en/players/b418dbd4/Raul-Garcia\">Raúl García</a>\n",
      "<a href=\"/en/players/fc4f85b1/Diego-Godin\">Diego Godín</a>\n",
      "<a href=\"/en/players/dd0a0fa1/Guti\">Guti</a>\n",
      "<a href=\"/en/players/cfd65a29/Andres-Iniesta\">Andrés Iniesta</a>\n",
      "<a href=\"/en/players/f4bbed41/Andoni-Iraola\">Andoni Iraola</a>\n",
      "<a href=\"/en/players/4c5b14d2/Joaquin\">Joaquín</a>\n",
      "<a href=\"/en/players/cfd8d664/Juanfran\">Juanfran</a>\n",
      "<a href=\"/en/players/17cd5bb7/Alberto-Lopo\">Alberto Lopo</a>\n",
      "<a href=\"/en/players/603116a7/Marcelo\">Marcelo</a>\n",
      "<a href=\"/en/players/d70ce98e/Lionel-Messi\">Lionel Messi</a>\n",
      "<a href=\"/en/players/61b5cd53/Pedro-Munitis\">Pedro Munitis</a>\n",
      "<a href=\"/en/players/5a3f6fae/Fernando-Navarro\">Fernando Navarro</a>\n",
      "<a href=\"/en/players/7c0bda9b/Carles-Puyol\">Carles Puyol</a>\n",
      "<a href=\"/en/players/08511d65/Sergio-Ramos\">Sergio Ramos</a>\n",
      "<a href=\"/en/players/2b81295d/Raul\">Raúl</a>\n",
      "<a href=\"/en/players/dea698d9/Cristiano-Ronaldo\">Cristiano Ronaldo</a>\n",
      "<a href=\"/en/players/c6ed9815/Sergio\">Sergio</a>\n",
      "<a href=\"/en/players/c026089c/Raul-Tamudo\">Raúl Tamudo</a>\n",
      "<a href=\"/en/players/e029e404/Victor-Valdes\">Víctor Valdés</a>\n",
      "<a href=\"/en/players/ade08a67/David-Villa\">David Villa</a>\n",
      "<a href=\"/en/players/c1b4188c/Xavi\">Xavi</a>\n",
      "<a href=\"/en/players/cfa036c3/Sylvain-Armand\">Sylvain Armand</a>\n",
      "<a href=\"/en/players/4e7bfc23/Florent-Balmont\">Florent Balmont</a>\n",
      "<a href=\"/en/players/3cd2fd3b/Laurent-Batlles\">Laurent Batlles</a>\n",
      "<a href=\"/en/players/f3642ba8/Mathieu-Bodmer\">Mathieu Bodmer</a>\n",
      "<a href=\"/en/players/f83c8d6c/Jimmy-Briand\">Jimmy Briand</a>\n",
      "<a href=\"/en/players/c58270f8/Souleymane-Camara\">Souleymane Camara</a>\n",
      "<a href=\"/en/players/dd8ab3d6/Zoumana-Camara\">Zoumana Camara</a>\n",
      "<a href=\"/en/players/17f5a888/Cedric-Carrasso\">Cédric Carrasso</a>\n",
      "<a href=\"/en/players/683e9dbc/Benoit-Cheyrou\">Benoît Cheyrou</a>\n",
      "<a href=\"/en/players/3f5b4635/Daniel-Congre\">Daniel Congré</a>\n",
      "<a href=\"/en/players/d2aa8ac0/Etienne-Didot\">Étienne Didot</a>\n",
      "<a href=\"/en/players/3b99b9e1/Mevlut-Erdinc\">Mevlüt Erdinç</a>\n",
      "<a href=\"/en/players/28c4631c/Rod-Fanni\">Rod Fanni</a>\n",
      "<a href=\"/en/players/76618c1e/Pierre-Alain-Frau\">Pierre-Alain Frau</a>\n",
      "<a href=\"/en/players/3d6686f9/Bafetimbi-Gomis\">Bafétimbi Gomis</a>\n",
      "<a href=\"/en/players/3acddfdd/Yoann-Gourcuff\">Yoann Gourcuff</a>\n",
      "<a href=\"/en/players/05428bc9/Sidney-Govou\">Sidney Govou</a>\n",
      "<a href=\"/en/players/c4bbea9f/Vitorino-Hilton\">Vitorino Hilton</a>\n",
      "<a href=\"/en/players/12bf5523/Mickael-Landreau\">Mickaël Landreau</a>\n",
      "<a href=\"/en/players/a6607cb6/Jerome-Leroy\">Jérôme Leroy</a>\n",
      "<a href=\"/en/players/cedc0a16/Peguy-Luyindula\">Péguy Luyindula</a>\n",
      "<a href=\"/en/players/9d0e2252/Toifilou-Maoulida\">Toifilou Maoulida</a>\n",
      "<a href=\"/en/players/c0cddebe/Blaise-Matuidi\">Blaise Matuidi</a>\n",
      "<a href=\"/en/players/48c16bf5/Rio-Mavuba\">Rio Mavuba</a>\n",
      "<a href=\"/en/players/58ae47b2/Dimitri-Payet\">Dimitri Payet</a>\n",
      "<a href=\"/en/players/c1c8eff9/Benoit-Pedretti\">Benoît Pedretti</a>\n",
      "<a href=\"/en/players/516dc25b/Jaroslav-Plasil\">Jaroslav Plašil</a>\n",
      "<a href=\"/en/players/8ad24039/Anthony-Reveillere\">Anthony Réveillère</a>\n",
      "<a href=\"/en/players/935faf11/Olivier-Sorlin\">Olivier Sorlin</a>\n",
      "<a href=\"/en/players/7adea561/Jeremy-Toulalan\">Jérémy Toulalan</a>\n",
      "<a href=\"/en/players/efcdb132/Halil-Altintop\">Halil Altıntop</a>\n",
      "<a href=\"/en/players/2ce9172f/Gerald-Asamoah\">Gerald Asamoah</a>\n",
      "<a href=\"/en/players/2b48fa93/Hanno-Balitsch\">Hanno Balitsch</a>\n",
      "<a href=\"/en/players/5c6a124a/Hans-Jorg-Butt\">Hans-Jörg Butt</a>\n",
      "<a href=\"/en/players/5d006974/Cacau\">Cacau</a>\n",
      "<a href=\"/en/players/68829001/Gonzalo-Castro\">Gonzalo Castro</a>\n",
      "<a href=\"/en/players/e6c8ded2/Torsten-Frings\">Torsten Frings</a>\n",
      "<a href=\"/en/players/a4f94a0d/Christian-Gentner\">Christian Gentner</a>\n",
      "<a href=\"/en/players/71a20ce8/Mario-Gomez\">Mario Gómez</a>\n",
      "<a href=\"/en/players/05d548d8/Mats-Hummels\">Mats Hummels</a>\n",
      "<a href=\"/en/players/5f9f0531/Aaron-Hunt\">Aaron Hunt</a>\n",
      "<a href=\"/en/players/c3fd9887/Vedad-Ibisevic\">Vedad Ibišević</a>\n",
      "<a href=\"/en/players/6167875f/Sebastian-Kehl\">Sebastian Kehl</a>\n",
      "<a href=\"/en/players/c419e035/Stefan-Kiessling\">Stefan Kießling</a>\n",
      "<a href=\"/en/players/5e36a0dd/Miroslav-Klose\">Miroslav Klose</a>\n",
      "<a href=\"/en/players/b9196983/Levan-Kobiashvili\">Levan Kobiashvili</a>\n",
      "<a href=\"/en/players/ac2c067c/Kevin-Kuranyi\">Kevin Kurányi</a>\n",
      "<a href=\"/en/players/de491a33/Philipp-Lahm\">Philipp Lahm</a>\n",
      "<a href=\"/en/players/8d78e732/Robert-Lewandowski\">Robert Lewandowski</a>\n",
      "<a href=\"/en/players/3c6089ab/Thomas-Muller\">Thomas Müller</a>\n",
      "<a href=\"/en/players/03bd0bf4/Naldo\">Naldo</a>\n",
      "<a href=\"/en/players/8778c910/Manuel-Neuer\">Manuel Neuer</a>\n",
      "<a href=\"/en/players/54b6ee79/Claudio-Pizarro\">Claudio Pizarro</a>\n",
      "<a href=\"/en/players/d003e213/Rafinha\">Rafinha</a>\n",
      "<a href=\"/en/players/f61c7c4e/Franck-Ribery\">Franck Ribéry</a>\n",
      "<a href=\"/en/players/c332aacf/Ze-Roberto\">Zé Roberto</a>\n",
      "<a href=\"/en/players/887b89b8/Frank-Rost\">Frank Rost</a>\n",
      "<a href=\"/en/players/b8699f1e/Christian-Schulz\">Christian Schulz</a>\n",
      "<a href=\"/en/players/ccc22fea/Bastian-Schweinsteiger\">Bastian Schweinsteiger</a>\n",
      "<a href=\"/en/players/16b8fabd/Roman-Weidenfeller\">Roman Weidenfeller</a>\n",
      "<a href=\"/en/players/26b20735/Massimo-Ambrosini\">Massimo Ambrosini</a>\n",
      "<a href=\"/en/players/a889ffc7/Marco-Borriello\">Marco Borriello</a>\n",
      "<a href=\"/en/players/d417b306/Matteo-Brighi\">Matteo Brighi</a>\n",
      "<a href=\"/en/players/e40d028b/Gianluigi-Buffon\">Gianluigi Buffon</a>\n",
      "<a href=\"/en/players/46ed55b6/Paolo-Cannavaro\">Paolo Cannavaro</a>\n",
      "<a href=\"/en/players/d0ed4d32/Antonio-Cassano\">Antonio Cassano</a>\n",
      "<a href=\"/en/players/09089343/Hernan-Crespo\">Hernán Crespo</a>\n",
      "<a href=\"/en/players/3858e611/Dario-Dainelli\">Dario Dainelli</a>\n",
      "<a href=\"/en/players/532d2690/Daniele-De-Rossi\">Daniele De Rossi</a>\n",
      "<a href=\"/en/players/83228343/Morgan-De-Sanctis\">Morgan De Sanctis</a>\n",
      "<a href=\"/en/players/80bc263c/Alessandro-Del-Piero\">Alessandro Del Piero</a>\n",
      "<a href=\"/en/players/45f26945/Antonio-Di-Natale\">Antonio Di Natale</a>\n",
      "<a href=\"/en/players/e1d3c5a8/Sebastien-Frey\">Sébastien Frey</a>\n",
      "<a href=\"/en/players/46b066b5/Gennaro-Gattuso\">Gennaro Gattuso</a>\n",
      "<a href=\"/en/players/45aa5d13/Alberto-Gilardino\">Alberto Gilardino</a>\n",
      "<a href=\"/en/players/e6ad16b2/Marek-Hamsik\">Marek Hamšík</a>\n",
      "<a href=\"/en/players/27b041d6/Filippo-Inzaghi\">Filippo Inzaghi</a>\n",
      "<a href=\"/en/players/58d97e77/Alessandro-Matri\">Alessandro Matri</a>\n",
      "<a href=\"/en/players/d711d04f/Goran-Pandev\">Goran Pandev</a>\n",
      "<a href=\"/en/players/6ca663b4/Giampaolo-Pazzini\">Giampaolo Pazzini</a>\n",
      "<a href=\"/en/players/878ee034/Sergio-Pellissier\">Sergio Pellissier</a>\n",
      "<a href=\"/en/players/12fedefa/Simone-Perrotta\">Simone Perrotta</a>\n",
      "<a href=\"/en/players/71c5f16f/Andrea-Pirlo\">Andrea Pirlo</a>\n",
      "<a href=\"/en/players/8b92c119/David-Pizarro\">David Pizarro</a>\n",
      "<a href=\"/en/players/ee4f2f3b/Fabio-Quagliarella\">Fabio Quagliarella</a>\n",
      "<a href=\"/en/players/e6af3cc7/Clarence-Seedorf\">Clarence Seedorf</a>\n",
      "<a href=\"/en/players/167d7dd3/Dejan-Stankovic\">Dejan Stanković</a>\n",
      "<a href=\"/en/players/dd74033b/Luca-Toni\">Luca Toni</a>\n",
      "<a href=\"/en/players/ed75b6c7/Francesco-Totti\">Francesco Totti</a>\n",
      "<a href=\"/en/players/2fb9e5c1/Javier-Zanetti\">Javier Zanetti</a>\n",
      "<a href=\"/en/players/a54b76d3/Davy-Arnaud\">Davy Arnaud</a>\n",
      "<a href=\"/en/players/3485cb96/Kyle-Beckerman\">Kyle Beckerman</a>\n",
      "<a href=\"/en/players/64f28f68/Nat-Borchers\">Nat Borchers</a>\n",
      "<a href=\"/en/players/94a315e2/Bobby-Boswell\">Bobby Boswell</a>\n",
      "<a href=\"/en/players/65778f14/Edson-Buddle\">Edson Buddle</a>\n",
      "<a href=\"/en/players/6168ede5/Brian-Carroll\">Brian Carroll</a>\n",
      "<a href=\"/en/players/01856d84/Jeff-Cunningham\">Jeff Cunningham</a>\n",
      "<a href=\"/en/players/7adc9ea2/Brad-Davis\">Brad Davis</a>\n",
      "<a href=\"/en/players/be40ace5/Dwayne-De-Rosario\">Dwayne De Rosario</a>\n",
      "<a href=\"/en/players/594d4046/Landon-Donovan\">Landon Donovan</a>\n",
      "<a href=\"/en/players/5186f36e/Kevin-Hartman\">Kevin Hartman</a>\n",
      "<a href=\"/en/players/bbce44d4/Chris-Henderson\">Chris Henderson</a>\n",
      "<a href=\"/en/players/1b7c1cc7/Cobi-Jones\">Cobi Jones</a>\n",
      "<a href=\"/en/players/6e3f3809/Kei-Kamara\">Kei Kamara</a>\n",
      "<a href=\"/en/players/fd922563/Chris-Klein\">Chris Klein</a>\n",
      "<a href=\"/en/players/e425a2b5/Jason-Kreis\">Jason Kreis</a>\n",
      "<a href=\"/en/players/0c3f9d7f/Jeff-Larentowicz\">Jeff Larentowicz</a>\n",
      "<a href=\"/en/players/116e7ee9/Mike-Magee\">Mike Magee</a>\n",
      "<a href=\"/en/players/210df59e/Jesse-Marsch\">Jesse Marsch</a>\n",
      "<a href=\"/en/players/ba82008e/Chad-Marshall\">Chad Marshall</a>\n",
      "<a href=\"/en/players/64507e3b/Tyrone-Marshall\">Tyrone Marshall</a>\n",
      "<a href=\"/en/players/220cf869/Drew-Moor\">Drew Moor</a>\n",
      "<a href=\"/en/players/863c44fc/Jaime-Moreno\">Jaime Moreno</a>\n",
      "<a href=\"/en/players/6910e06f/Brian-Mullan\">Brian Mullan</a>\n",
      "<a href=\"/en/players/73f325d9/Dominic-Oduro\">Dominic Oduro</a>\n",
      "<a href=\"/en/players/bdc561ed/Steve-Ralston\">Steve Ralston</a>\n",
      "<a href=\"/en/players/bf8371ca/Ante-Razov\">Ante Razov</a>\n",
      "<a href=\"/en/players/cf975d73/Nick-Rimando\">Nick Rimando</a>\n",
      "<a href=\"/en/players/d84811cb/Andy-Williams\">Andy Williams</a>\n",
      "<a href=\"/en/players/37f46eda/Chris-Wondolowski\">Chris Wondolowski</a>\n",
      "<a href=\"/en/squads/countries/ENG/\">England</a>\n",
      "<a href=\"/en/squads/countries/FRA/\">France</a>\n",
      "<a href=\"/en/squads/countries/GER/\">Germany</a>\n",
      "<a href=\"/en/squads/countries/ITA/\">Italy</a>\n",
      "<a href=\"/en/squads/countries/ESP/\">Spain</a>\n",
      "<a href=\"/en/squads/countries/USA/\">United States</a>\n",
      "<a href=\"/feedback/\">let us know if you find an issue</a>\n",
      "<a href=\"/en/about/email\">receive an e-mail</a>\n",
      "<a href=\"https://www.sports-reference.com/blog/2018/06/fbref-com-launches-today\">Launch Blog\n",
      "Post</a>\n",
      "<a href=\"/en/comps/\">leagues/competitions\n",
      "    page</a>\n",
      "<a href=\"/en/about/\">About Page</a>\n",
      "<a href=\"/feedback/\">Let us know if you find an issue or have a suggestion</a>\n",
      "<a href=\"https://www.sports-reference.com/\">Sports-Reference.com</a>\n",
      "<a href=\"/my/?do=ad_free_browsing\">Support us without the ads? Go Ad-Free.</a>\n",
      "<a href=\"/my/\">Your Account</a>\n",
      "<a class=\"logout\" href=\"/my/?do=logout\">Logout</a>\n",
      "<a class=\"login\" href=\"/my/\">Login</a>\n",
      "<a href=\"/my/\">Create Account</a>\n",
      "<a href=\"/my/?do=ad_free_browsing\">Surf AD-FREE</a>\n",
      "<a href=\"/\">FB Home</a>\n",
      "<a href=\"/players/\" itemprop=\"item\"><span itemprop=\"name\">Players</span></a>\n",
      "<a data-scroll=\"\" href=\"#header\">Return to Top</a>\n",
      "<a href=\"/en/players/\">Players</a>\n",
      "<a href=\"/en/players/21a66f6a/\">Harry Kane</a>\n",
      "<a href=\"/en/players/d70ce98e/\">Lionel Messi</a>\n",
      "<a href=\"/en/players/e342ad68/\">Mohamed Salah</a>\n",
      "<a href=\"/en/players/654f4e63/\">Zinédine Zidane</a>\n",
      "<a href=\"/en/players/dea698d9/\">Cristiano Ronaldo</a>\n",
      "<a href=\"/en/players/69384e5d/\">Neymar</a>\n",
      "<a href=\"/en/players/4cde5509/\">Zlatan Ibrahimović</a>\n",
      "<a href=\"/en/players/a29c3ed6/\">Gareth Southgate</a>\n",
      "<a href=\"/en/players/\">...</a>\n",
      "<a href=\"/en/squads/\">Clubs</a>\n",
      "<a href=\"/en/squads/054efa67/FC-Bayern-Munich\">Bayern Munich</a>\n",
      "<a href=\"/en/squads/206d90db/FC-Barcelona\">FC Barcelona</a>\n",
      "<a href=\"/en/squads/b8fd03ef/Manchester-City-FC\">Manchester City</a>\n",
      "<a href=\"/en/squads/e0652b02/Juventus-FC\">Juventus</a>\n",
      "<a href=\"/en/squads/18bb7c10/Arsenal-FC\">Arsenal</a>\n",
      "<a href=\"/en/squads/e2d8892c/Paris-Saint-Germain-FC\">Paris Saint-Germain</a>\n",
      "<a href=\"/en/squads/6218ebd4/Seattle-Sounders-FC\">Seattle Sounders</a>\n",
      "<a href=\"/en/squads/d609edc0/Internazionale\">Inter Milan</a>\n",
      "<a href=\"/en/squads/\">...</a>\n",
      "<a href=\"/en/comps/season/\">Seasons</a>\n",
      "<a href=\"/en/comps/season/2016\">2016</a>\n",
      "<a href=\"/en/comps/season/2016-2017\">2016-17</a>\n",
      "<a href=\"/en/comps/season/2017\">2017</a>\n",
      "<a href=\"/en/comps/season/2017-2018\">2017-18</a>\n",
      "<a href=\"/en/comps/season/\">...</a>\n",
      "<a href=\"/en/comps/\">Leagues</a>\n",
      "<a href=\"/en/comps/13/Championnat-de-France-de-football/\">Championnat de France de football</a>\n",
      "<a href=\"/en/comps/9/Premier-League\">English Premier League</a>\n",
      "<a href=\"/en/comps/22/Major-League-Soccer\">Major League Soccer</a>\n",
      "<a href=\"/en/comps/20/Fussball-Bundesliga\">Bundesliga</a>\n",
      "<a href=\"/en/comps/12/Primera-Division-de-Espana\">Primera División de España</a>\n",
      "<a href=\"/en/comps/11/Serie-A\">Serie A</a>\n",
      "<a href=\"/en/comps/10/EFL-Championship\">EFL Championship</a>\n",
      "<a href=\"/en/comps/\">...</a>\n",
      "<a href=\"/en/squads/country/\">Countries</a>\n",
      "<a href=\"/en/squads/country/ESP\">Spain</a>\n",
      "<a href=\"/en/squads/country/FRA\">France</a>\n",
      "<a href=\"/en/squads/country/ITA\">Italy</a>\n",
      "<a href=\"/en/squads/country/GER\">Germany</a>\n",
      "<a href=\"/en/squads/country/ENG\">England</a>\n",
      "<a href=\"/en/squads/country/USA\">USA</a>\n",
      "<a href=\"/en/squads/country/\">...</a>\n",
      "<a>World Cup</a>\n",
      "<a href=\"/en/squads/world-cup-preview/RUS/2018\">Russia</a>\n",
      "<a href=\"/en/squads/world-cup-preview/URU/2018\">Uruguay</a>\n",
      "<a href=\"/en/squads/world-cup-preview/EGY/2018\">Egypt</a>\n",
      "<a href=\"/en/squads/world-cup-preview/KSA/2018\">Saudi Arabia</a>\n",
      "<a href=\"/en/squads/world-cup-preview/POR/2018\">Portugal</a>\n",
      "<a href=\"/en/squads/world-cup-preview/ESP/2018\">Spain</a>\n",
      "<a href=\"/en/squads/world-cup-preview/IRN/2018\">Iran</a>\n",
      "<a href=\"/en/squads/world-cup-preview/MAR/2018\">Morocco</a>\n",
      "<a href=\"/en/squads/world-cup-preview/FRA/2018\">France</a>\n",
      "<a href=\"/en/squads/world-cup-preview/PER/2018\">Peru</a>\n",
      "<a href=\"/en/squads/world-cup-preview/DEN/2018\">Denmark</a>\n",
      "<a href=\"/en/squads/world-cup-preview/AUS/2018\">Australia</a>\n",
      "<a href=\"/en/squads/world-cup-preview/ARG/2018\">Argentina</a>\n",
      "<a href=\"/en/squads/world-cup-preview/CRO/2018\">Croatia</a>\n",
      "<a href=\"/en/squads/world-cup-preview/ISL/2018\">Iceland</a>\n",
      "<a href=\"/en/squads/world-cup-preview/NGA/2018\">Nigeria</a>\n",
      "<a href=\"/en/squads/world-cup-preview/BRA/2018\">Brazil</a>\n",
      "<a href=\"/en/squads/world-cup-preview/SUI/2018\">Switzerland</a>\n",
      "<a href=\"/en/squads/world-cup-preview/CRC/2018\">Costa Rica</a>\n",
      "<a href=\"/en/squads/world-cup-preview/SRB/2018\">Serbia</a>\n",
      "<a href=\"/en/squads/world-cup-preview/GER/2018\">Germany</a>\n",
      "<a href=\"/en/squads/world-cup-preview/MEX/2018\">Mexico</a>\n",
      "<a href=\"/en/squads/world-cup-preview/SWE/2018\">Sweden</a>\n",
      "<a href=\"/en/squads/world-cup-preview/KOR/2018\">South Korea</a>\n",
      "<a href=\"/en/squads/world-cup-preview/BEL/2018\">Belgium</a>\n",
      "<a href=\"/en/squads/world-cup-preview/ENG/2018\">England</a>\n",
      "<a href=\"/en/squads/world-cup-preview/TUN/2018\">Tunisia</a>\n",
      "<a href=\"/en/squads/world-cup-preview/PAN/2018\">Panama</a>\n",
      "<a href=\"/en/squads/world-cup-preview/POL/2018\">Poland</a>\n",
      "<a href=\"/en/squads/world-cup-preview/COL/2018\">Colombia</a>\n",
      "<a href=\"/en/squads/world-cup-preview/SEN/2018\">Senegal</a>\n",
      "<a href=\"/en/squads/world-cup-preview/JPN/2018\">Japan</a>\n",
      "<a class=\"poptip\" data-label=\"Telephone\" data-tip=\"Call us on Telephone\" href=\"tel://888-512-8907\"><svg class=\"icon phone\"><use xlink:href=\"#ic-phone\"></use></svg></a>\n",
      "<a class=\"poptip\" data-label=\"Our Blog\" data-tip=\"The Sports Reference Blog\" href=\"//www.sports-reference.com/blog/\"><svg class=\"icon wordpress\"><use xlink:href=\"#ic-wordpress\"></use></svg></a>\n",
      "<a class=\"poptip\" data-label=\"RSS Feed\" data-tip=\"Our Blog's RSS Feed\" href=\"https://www.sports-reference.com/blog/feed/\"><svg class=\"icon rss\"><use xlink:href=\"#ic-rss\"></use></svg></a>\n",
      "<a class=\"poptip\" data-label=\"Twitter\" data-tip=\"FBref.com at Twitter\" href=\"https://twitter.com/FBref\"><svg class=\"icon twitter\"><use xlink:href=\"#ic-twitter\"></use></svg></a>\n",
      "<a class=\"poptip\" data-label=\"Reddit/r/SR\" data-tip=\"Reddit/r/SportsReference\" href=\"https://reddit.com/r/SportsReference\"><svg class=\"icon reddit\"><use xlink:href=\"#ic-reddit\"></use></svg></a>\n",
      "<a class=\"poptip\" data-label=\"YouTube\" data-tip=\"YouTube/SportsReference\" href=\"https://www.youtube.com/user/sportsreference\"><svg class=\"icon youtube\"><use xlink:href=\"#ic-youtube\"></use></svg></a>\n",
      "<a class=\"poptip\" data-label=\"LinkedIn\" data-tip=\"Follow SR on LinkedIn\" href=\"https://www.linkedin.com/company/sports-reference-llc\"><svg class=\"icon linkedin\"><use xlink:href=\"#ic-linkedin\"></use></svg></a>\n",
      "<a class=\"poptip\" data-label=\"PayPal\" data-tip=\"Send us money via PayPal\" href=\"https://www.paypal.me/sportsref\"><svg class=\"icon paypal\"><use xlink:href=\"#ic-paypal\"></use></svg></a>\n",
      "<a href=\"https://www.sports-reference.com/blog/sports-reference-social-media/\">Sports Reference Social Media Account</a>\n",
      "<a class=\"button alt\" href=\"https://www.sports-reference.com/feedback/\">Question, Comment, Feedback, or Correction?</a>\n",
      "<a class=\"button alt\" href=\"https://stathead.com/\" style=\"background-color:#8e4496; color: #fff;\">Are you a Stathead, too? Subscribe to our Newsletter</a>\n",
      "<a href=\"https://www.sports-reference.com/blog/2018/06/fbref-com-launches-today\">FBref Launch Post: What we've done, what we have and what's next.</a>\n",
      "<a href=\"//www.sports-reference.com/blog/category/tips-and-tricks/\">Tips and Tricks from our Blog.</a>\n",
      "<a href=\"/linker/\">Do you have a blog? Join our linker program.</a>\n",
      "<a href=\"//www.sports-reference.com/blog/category/how-to-videos/\">Watch our How-To Videos to Become a Stathead</a>\n",
      "<a href=\"/my/?do=ad_free_browsing\">Go ad-free to support Sports Reference and get our fastest browsing experience</a>\n",
      "<a href=\"//www.baseball-reference.com/play-index/\">Subscribe to the Play Index and get access to more data than you can imagine</a>\n",
      "<a href=\"https://www.sports-reference.com/blog/2016/06/redesign-team-and-league-logos-courtesy-sportslogos-net/\">Our reasoning for presenting offensive logos.</a>\n",
      "<a href=\"http://sportslogos.net/\">SportsLogos.net.</a>\n",
      "<a href=\"//www.sports-reference.com/\">Sports Reference LLC</a>\n",
      "<a href=\"https://www.sports-reference.com/\"><svg height=\"15px\" width=\"20px\"><use xlink:href=\"#ic-sr-pennant\"></use></svg> Sports Reference</a>\n",
      "<a href=\"https://www.baseball-reference.com/\">Baseball</a>\n",
      "<a href=\"https://www.pro-football-reference.com/\">Football</a>\n",
      "<a href=\"https://www.sports-reference.com/cfb/\">(college)</a>\n",
      "<a href=\"https://www.basketball-reference.com/\">Basketball</a>\n",
      "<a href=\"https://www.sports-reference.com/cbb/\">(college)</a>\n",
      "<a href=\"https://www.hockey-reference.com/\">Hockey</a>\n",
      "<a href=\"https://fbref.com/\">Soccer</a>\n",
      "<a href=\"https://www.sports-reference.com/blog/\">Blog</a>\n",
      "<a href=\"https://stathead.com/\">Stathead</a>\n",
      "<a href=\"https://widgets.sports-reference.com/\">Widgets</a>\n",
      "<a href=\"//www.sports-reference.com/about.html\">About</a>\n",
      "<a href=\"//www.sports-reference.com/privacy.html\">Privacy Statement</a>\n",
      "<a href=\"//www.sports-reference.com/termsofuse.html\">Conditions &amp; Terms of Service</a>\n",
      "<a href=\"//www.sports-reference.com/data_use.html\">Use of Data</a>\n"
     ]
    }
   ],
   "source": [
    "#find and print all hyperlink elements\n",
    "for link in soup.find_all('a'): \n",
    "    print(link)"
   ]
  },
  {
   "cell_type": "code",
   "execution_count": 9,
   "metadata": {},
   "outputs": [
    {
     "data": {
      "text/plain": [
       "bs4.element.Tag"
      ]
     },
     "execution_count": 9,
     "metadata": {},
     "output_type": "execute_result"
    }
   ],
   "source": [
    "type(soup.find('a'))"
   ]
  },
  {
   "cell_type": "code",
   "execution_count": 10,
   "metadata": {},
   "outputs": [
    {
     "data": {
      "text/plain": [
       "'https://www.sports-reference.com/'"
      ]
     },
     "execution_count": 10,
     "metadata": {},
     "output_type": "execute_result"
    }
   ],
   "source": [
    "# retrieve the url from an anchor tag (href attribute)\n",
    "soup.find('a')['href']"
   ]
  },
  {
   "cell_type": "code",
   "execution_count": 66,
   "metadata": {},
   "outputs": [
    {
     "ename": "TypeError",
     "evalue": "list indices must be integers or slices, not str",
     "output_type": "error",
     "traceback": [
      "\u001b[0;31m---------------------------------------------------------------------------\u001b[0m",
      "\u001b[0;31mTypeError\u001b[0m                                 Traceback (most recent call last)",
      "\u001b[0;32m<ipython-input-66-4ad71a08d78f>\u001b[0m in \u001b[0;36m<module>\u001b[0;34m()\u001b[0m\n\u001b[0;32m----> 1\u001b[0;31m \u001b[0msoup\u001b[0m\u001b[0;34m.\u001b[0m\u001b[0mfind_all\u001b[0m\u001b[0;34m(\u001b[0m\u001b[0;34m'a'\u001b[0m\u001b[0;34m)\u001b[0m\u001b[0;34m[\u001b[0m\u001b[0;34m'href'\u001b[0m\u001b[0;34m]\u001b[0m\u001b[0;34m\u001b[0m\u001b[0m\n\u001b[0m",
      "\u001b[0;31mTypeError\u001b[0m: list indices must be integers or slices, not str"
     ]
    }
   ],
   "source": [
    "soup.find_all('a')['href']"
   ]
  },
  {
   "cell_type": "code",
   "execution_count": 11,
   "metadata": {},
   "outputs": [
    {
     "ename": "KeyError",
     "evalue": "'href'",
     "output_type": "error",
     "traceback": [
      "\u001b[0;31m---------------------------------------------------------------------------\u001b[0m",
      "\u001b[0;31mKeyError\u001b[0m                                  Traceback (most recent call last)",
      "\u001b[0;32m<ipython-input-11-88087598de87>\u001b[0m in \u001b[0;36m<module>\u001b[0;34m()\u001b[0m\n\u001b[1;32m      1\u001b[0m \u001b[0mlink_lst\u001b[0m \u001b[0;34m=\u001b[0m \u001b[0;34m[\u001b[0m\u001b[0;34m]\u001b[0m\u001b[0;34m\u001b[0m\u001b[0m\n\u001b[1;32m      2\u001b[0m \u001b[0;32mfor\u001b[0m \u001b[0mlink\u001b[0m \u001b[0;32min\u001b[0m \u001b[0msoup\u001b[0m\u001b[0;34m.\u001b[0m\u001b[0mfind_all\u001b[0m\u001b[0;34m(\u001b[0m\u001b[0;34m'a'\u001b[0m\u001b[0;34m)\u001b[0m\u001b[0;34m:\u001b[0m\u001b[0;34m\u001b[0m\u001b[0m\n\u001b[0;32m----> 3\u001b[0;31m     \u001b[0mlink_lst\u001b[0m\u001b[0;34m.\u001b[0m\u001b[0mappend\u001b[0m\u001b[0;34m(\u001b[0m\u001b[0mlink\u001b[0m\u001b[0;34m[\u001b[0m\u001b[0;34m'href'\u001b[0m\u001b[0;34m]\u001b[0m\u001b[0;34m)\u001b[0m\u001b[0;34m\u001b[0m\u001b[0m\n\u001b[0m",
      "\u001b[0;32m~/anaconda3/lib/python3.6/site-packages/bs4/element.py\u001b[0m in \u001b[0;36m__getitem__\u001b[0;34m(self, key)\u001b[0m\n\u001b[1;32m   1009\u001b[0m         \"\"\"tag[key] returns the value of the 'key' attribute for the tag,\n\u001b[1;32m   1010\u001b[0m         and throws an exception if it's not there.\"\"\"\n\u001b[0;32m-> 1011\u001b[0;31m         \u001b[0;32mreturn\u001b[0m \u001b[0mself\u001b[0m\u001b[0;34m.\u001b[0m\u001b[0mattrs\u001b[0m\u001b[0;34m[\u001b[0m\u001b[0mkey\u001b[0m\u001b[0;34m]\u001b[0m\u001b[0;34m\u001b[0m\u001b[0m\n\u001b[0m\u001b[1;32m   1012\u001b[0m \u001b[0;34m\u001b[0m\u001b[0m\n\u001b[1;32m   1013\u001b[0m     \u001b[0;32mdef\u001b[0m \u001b[0m__iter__\u001b[0m\u001b[0;34m(\u001b[0m\u001b[0mself\u001b[0m\u001b[0;34m)\u001b[0m\u001b[0;34m:\u001b[0m\u001b[0;34m\u001b[0m\u001b[0m\n",
      "\u001b[0;31mKeyError\u001b[0m: 'href'"
     ]
    }
   ],
   "source": [
    "link_lst = []\n",
    "for link in soup.find_all('a'): \n",
    "    link_lst.append(link['href'])"
   ]
  },
  {
   "cell_type": "code",
   "execution_count": 70,
   "metadata": {},
   "outputs": [
    {
     "name": "stdout",
     "output_type": "stream",
     "text": [
      "[<a href=\"https://www.sports-reference.com/\"><svg height=\"15px\" width=\"20px\"><use xlink:href=\"#ic-sr-pennant\"></use></svg> Sports Reference</a>, <a href=\"https://www.baseball-reference.com/\">Baseball</a>, <a href=\"https://www.pro-football-reference.com/\">Football</a>, <a href=\"https://www.sports-reference.com/cfb/\">(college)</a>, <a href=\"https://www.basketball-reference.com/\">Basketball</a>, <a href=\"https://www.sports-reference.com/cbb/\">(college)</a>, <a href=\"https://www.hockey-reference.com/\">Hockey</a>, <a href=\"https://fbref.com/\">Soccer</a>, <a href=\"https://www.sports-reference.com/blog/\">Blog</a>, <a href=\"https://stathead.com/\">Stathead</a>, <a href=\"https://widgets.sports-reference.com/\">Widgets</a>, <a href=\"https://www.sports-reference.com/feedback/\">Questions or Comments?</a>, <a href=\"/my/\">Your Account</a>, <a class=\"logout\" href=\"/my/?do=logout\">Logout</a>, <a class=\"login\" href=\"/my/\">Login</a>, <a href=\"/my/\">Create Account</a>, <a href=\"/my/?do=ad_free_browsing\">Surf AD-FREE</a>, <a href=\"/\"><img alt=\"FBref.com Logo &amp; Link to home page\" onerror=\"this.src='https://d2p3bygnnzw9w3.cloudfront.net/req/201807061/logos/fb-logo.png'; this.onerror = null;\" src=\"https://d2p3bygnnzw9w3.cloudfront.net/req/201807061/logos/fb-logo.svg\"/></a>, <a href=\"#site_menu_link\">MENU</a>, <a href=\"/en/players/\">Players</a>, <a href=\"/en/squads/\">Clubs</a>, <a href=\"/en/comps/\">Seasons</a>, <a href=\"/en/squads/country/\">Countries</a>, <a href=\"/en/about/email\">FBref Email List</a>, <a class=\"opener\" data-scroll=\"\" href=\"#site_menu_link\">Full Site Menu Below</a>, <a href=\"/\">FB Home</a>, <a href=\"/players/\" itemprop=\"item\"><span itemprop=\"name\">Players</span></a>, <a href=\"/my/\">Your Account</a>, <a class=\"logout\" href=\"/my/?do=logout\">Logout</a>, <a class=\"login\" href=\"/my/\">Login</a>, <a href=\"/my/\">Create Account</a>, <a href=\"/my/?do=ad_free_browsing\">Surf AD-FREE</a>, <a href=\"#coverage\">note below about the leagues and countries we cover and future plans</a>, <a href=\"/en/players/931ed5e9/Nicolas-Anelka\">Nicolas Anelka</a>, <a href=\"/en/players/7dbbe367/Gareth-Barry\">Gareth Barry</a>, <a href=\"/en/players/616b3f9a/Nicky-Butt\">Nicky Butt</a>, <a href=\"/en/players/3e3b2fbd/Sol-Campbell\">Sol Campbell</a>, <a href=\"/en/players/d0ebce19/Jamie-Carragher\">Jamie Carragher</a>, <a href=\"/en/players/ab7263c1/Michael-Carrick\">Michael Carrick</a>, <a href=\"/en/players/71672fa0/Petr-Cech\">Petr Čech</a>, <a href=\"/en/players/b6638a2c/Andy-Cole\">Andy Cole</a>, <a href=\"/en/players/73d9bdc7/Peter-Crouch\">Peter Crouch</a>, <a href=\"/en/players/f1e8372d/Jermain-Defoe\">Jermain Defoe</a>, <a href=\"/en/players/52465662/Rio-Ferdinand\">Rio Ferdinand</a>, <a href=\"/en/players/7cd34266/Robbie-Fowler\">Robbie Fowler</a>, <a href=\"/en/players/caeb5442/Steven-Gerrard\">Steven Gerrard</a>, <a href=\"/en/players/561de8d0/Ryan-Giggs\">Ryan Giggs</a>, <a href=\"/en/players/30184789/Emile-Heskey\">Emile Heskey</a>, <a href=\"/en/players/86841dfb/David-James\">David James</a>, <a href=\"/en/players/268df6b1/Frank-Lampard\">Frank Lampard</a>, <a href=\"/en/players/2f90f6b8/James-Milner\">James Milner</a>, <a href=\"/en/players/03a97c40/Danny-Murphy\">Danny Murphy</a>, <a href=\"/en/players/1b013e33/Gary-Neville\">Gary Neville</a>, <a href=\"/en/players/3db5e0ec/Phil-Neville\">Phil Neville</a>, <a href=\"/en/players/88b3f52c/Michael-Owen\">Michael Owen</a>, <a href=\"/en/players/f07be45a/Wayne-Rooney\">Wayne Rooney</a>, <a href=\"/en/players/24a3a72c/Paul-Scholes\">Paul Scholes</a>, <a href=\"/en/players/da409c6f/Mark-Schwarzer\">Mark Schwarzer</a>, <a href=\"/en/players/438b3a51/Alan-Shearer\">Alan Shearer</a>, <a href=\"/en/players/4e56eef6/Teddy-Sheringham\">Teddy Sheringham</a>, <a href=\"/en/players/5ca13d11/Gary-Speed\">Gary Speed</a>, <a href=\"/en/players/68517cfd/John-Terry\">John Terry</a>, <a href=\"/en/players/2d0a99d3/Dwight-Yorke\">Dwight Yorke</a>, <a href=\"/en/players/293211e1/Aritz-Aduriz\">Aritz Aduriz</a>, <a href=\"/en/players/def14f68/David-Albelda\">David Albelda</a>, <a href=\"/en/players/c9e99e49/Dani-Alves\">Dani Alves</a>, <a href=\"/en/players/19058f02/Jose-Antonio-Reyes\">José Antonio Reyes</a>, <a href=\"/en/players/70d74ece/Karim-Benzema\">Karim Benzema</a>, <a href=\"/en/players/69697a6d/Joan-Capdevila\">Joan Capdevila</a>, <a href=\"/en/players/1ddbb0da/Iker-Casillas\">Iker Casillas</a>, <a href=\"/en/players/06420c93/Samuel-Etoo\">Samuel Eto'o</a>, <a href=\"/en/players/65d750b5/Gabi\">Gabi</a>, <a href=\"/en/players/b418dbd4/Raul-Garcia\">Raúl García</a>, <a href=\"/en/players/fc4f85b1/Diego-Godin\">Diego Godín</a>, <a href=\"/en/players/dd0a0fa1/Guti\">Guti</a>, <a href=\"/en/players/cfd65a29/Andres-Iniesta\">Andrés Iniesta</a>, <a href=\"/en/players/f4bbed41/Andoni-Iraola\">Andoni Iraola</a>, <a href=\"/en/players/4c5b14d2/Joaquin\">Joaquín</a>, <a href=\"/en/players/cfd8d664/Juanfran\">Juanfran</a>, <a href=\"/en/players/17cd5bb7/Alberto-Lopo\">Alberto Lopo</a>, <a href=\"/en/players/603116a7/Marcelo\">Marcelo</a>, <a href=\"/en/players/d70ce98e/Lionel-Messi\">Lionel Messi</a>, <a href=\"/en/players/61b5cd53/Pedro-Munitis\">Pedro Munitis</a>, <a href=\"/en/players/5a3f6fae/Fernando-Navarro\">Fernando Navarro</a>, <a href=\"/en/players/7c0bda9b/Carles-Puyol\">Carles Puyol</a>, <a href=\"/en/players/08511d65/Sergio-Ramos\">Sergio Ramos</a>, <a href=\"/en/players/2b81295d/Raul\">Raúl</a>, <a href=\"/en/players/dea698d9/Cristiano-Ronaldo\">Cristiano Ronaldo</a>, <a href=\"/en/players/c6ed9815/Sergio\">Sergio</a>, <a href=\"/en/players/c026089c/Raul-Tamudo\">Raúl Tamudo</a>, <a href=\"/en/players/e029e404/Victor-Valdes\">Víctor Valdés</a>, <a href=\"/en/players/ade08a67/David-Villa\">David Villa</a>, <a href=\"/en/players/c1b4188c/Xavi\">Xavi</a>, <a href=\"/en/players/cfa036c3/Sylvain-Armand\">Sylvain Armand</a>, <a href=\"/en/players/4e7bfc23/Florent-Balmont\">Florent Balmont</a>, <a href=\"/en/players/3cd2fd3b/Laurent-Batlles\">Laurent Batlles</a>, <a href=\"/en/players/f3642ba8/Mathieu-Bodmer\">Mathieu Bodmer</a>, <a href=\"/en/players/f83c8d6c/Jimmy-Briand\">Jimmy Briand</a>, <a href=\"/en/players/c58270f8/Souleymane-Camara\">Souleymane Camara</a>, <a href=\"/en/players/dd8ab3d6/Zoumana-Camara\">Zoumana Camara</a>, <a href=\"/en/players/17f5a888/Cedric-Carrasso\">Cédric Carrasso</a>, <a href=\"/en/players/683e9dbc/Benoit-Cheyrou\">Benoît Cheyrou</a>, <a href=\"/en/players/3f5b4635/Daniel-Congre\">Daniel Congré</a>, <a href=\"/en/players/d2aa8ac0/Etienne-Didot\">Étienne Didot</a>, <a href=\"/en/players/3b99b9e1/Mevlut-Erdinc\">Mevlüt Erdinç</a>, <a href=\"/en/players/28c4631c/Rod-Fanni\">Rod Fanni</a>, <a href=\"/en/players/76618c1e/Pierre-Alain-Frau\">Pierre-Alain Frau</a>, <a href=\"/en/players/3d6686f9/Bafetimbi-Gomis\">Bafétimbi Gomis</a>, <a href=\"/en/players/3acddfdd/Yoann-Gourcuff\">Yoann Gourcuff</a>, <a href=\"/en/players/05428bc9/Sidney-Govou\">Sidney Govou</a>, <a href=\"/en/players/c4bbea9f/Vitorino-Hilton\">Vitorino Hilton</a>, <a href=\"/en/players/12bf5523/Mickael-Landreau\">Mickaël Landreau</a>, <a href=\"/en/players/a6607cb6/Jerome-Leroy\">Jérôme Leroy</a>, <a href=\"/en/players/cedc0a16/Peguy-Luyindula\">Péguy Luyindula</a>, <a href=\"/en/players/9d0e2252/Toifilou-Maoulida\">Toifilou Maoulida</a>, <a href=\"/en/players/c0cddebe/Blaise-Matuidi\">Blaise Matuidi</a>, <a href=\"/en/players/48c16bf5/Rio-Mavuba\">Rio Mavuba</a>, <a href=\"/en/players/58ae47b2/Dimitri-Payet\">Dimitri Payet</a>, <a href=\"/en/players/c1c8eff9/Benoit-Pedretti\">Benoît Pedretti</a>, <a href=\"/en/players/516dc25b/Jaroslav-Plasil\">Jaroslav Plašil</a>, <a href=\"/en/players/8ad24039/Anthony-Reveillere\">Anthony Réveillère</a>, <a href=\"/en/players/935faf11/Olivier-Sorlin\">Olivier Sorlin</a>, <a href=\"/en/players/7adea561/Jeremy-Toulalan\">Jérémy Toulalan</a>, <a href=\"/en/players/efcdb132/Halil-Altintop\">Halil Altıntop</a>, <a href=\"/en/players/2ce9172f/Gerald-Asamoah\">Gerald Asamoah</a>, <a href=\"/en/players/2b48fa93/Hanno-Balitsch\">Hanno Balitsch</a>, <a href=\"/en/players/5c6a124a/Hans-Jorg-Butt\">Hans-Jörg Butt</a>, <a href=\"/en/players/5d006974/Cacau\">Cacau</a>, <a href=\"/en/players/68829001/Gonzalo-Castro\">Gonzalo Castro</a>, <a href=\"/en/players/e6c8ded2/Torsten-Frings\">Torsten Frings</a>, <a href=\"/en/players/a4f94a0d/Christian-Gentner\">Christian Gentner</a>, <a href=\"/en/players/71a20ce8/Mario-Gomez\">Mario Gómez</a>, <a href=\"/en/players/05d548d8/Mats-Hummels\">Mats Hummels</a>, <a href=\"/en/players/5f9f0531/Aaron-Hunt\">Aaron Hunt</a>, <a href=\"/en/players/c3fd9887/Vedad-Ibisevic\">Vedad Ibišević</a>, <a href=\"/en/players/6167875f/Sebastian-Kehl\">Sebastian Kehl</a>, <a href=\"/en/players/c419e035/Stefan-Kiessling\">Stefan Kießling</a>, <a href=\"/en/players/5e36a0dd/Miroslav-Klose\">Miroslav Klose</a>, <a href=\"/en/players/b9196983/Levan-Kobiashvili\">Levan Kobiashvili</a>, <a href=\"/en/players/ac2c067c/Kevin-Kuranyi\">Kevin Kurányi</a>, <a href=\"/en/players/de491a33/Philipp-Lahm\">Philipp Lahm</a>, <a href=\"/en/players/8d78e732/Robert-Lewandowski\">Robert Lewandowski</a>, <a href=\"/en/players/3c6089ab/Thomas-Muller\">Thomas Müller</a>, <a href=\"/en/players/03bd0bf4/Naldo\">Naldo</a>, <a href=\"/en/players/8778c910/Manuel-Neuer\">Manuel Neuer</a>, <a href=\"/en/players/54b6ee79/Claudio-Pizarro\">Claudio Pizarro</a>, <a href=\"/en/players/d003e213/Rafinha\">Rafinha</a>, <a href=\"/en/players/f61c7c4e/Franck-Ribery\">Franck Ribéry</a>, <a href=\"/en/players/c332aacf/Ze-Roberto\">Zé Roberto</a>, <a href=\"/en/players/887b89b8/Frank-Rost\">Frank Rost</a>, <a href=\"/en/players/b8699f1e/Christian-Schulz\">Christian Schulz</a>, <a href=\"/en/players/ccc22fea/Bastian-Schweinsteiger\">Bastian Schweinsteiger</a>, <a href=\"/en/players/16b8fabd/Roman-Weidenfeller\">Roman Weidenfeller</a>, <a href=\"/en/players/26b20735/Massimo-Ambrosini\">Massimo Ambrosini</a>, <a href=\"/en/players/a889ffc7/Marco-Borriello\">Marco Borriello</a>, <a href=\"/en/players/d417b306/Matteo-Brighi\">Matteo Brighi</a>, <a href=\"/en/players/e40d028b/Gianluigi-Buffon\">Gianluigi Buffon</a>, <a href=\"/en/players/46ed55b6/Paolo-Cannavaro\">Paolo Cannavaro</a>, <a href=\"/en/players/d0ed4d32/Antonio-Cassano\">Antonio Cassano</a>, <a href=\"/en/players/09089343/Hernan-Crespo\">Hernán Crespo</a>, <a href=\"/en/players/3858e611/Dario-Dainelli\">Dario Dainelli</a>, <a href=\"/en/players/532d2690/Daniele-De-Rossi\">Daniele De Rossi</a>, <a href=\"/en/players/83228343/Morgan-De-Sanctis\">Morgan De Sanctis</a>, <a href=\"/en/players/80bc263c/Alessandro-Del-Piero\">Alessandro Del Piero</a>, <a href=\"/en/players/45f26945/Antonio-Di-Natale\">Antonio Di Natale</a>, <a href=\"/en/players/e1d3c5a8/Sebastien-Frey\">Sébastien Frey</a>, <a href=\"/en/players/46b066b5/Gennaro-Gattuso\">Gennaro Gattuso</a>, <a href=\"/en/players/45aa5d13/Alberto-Gilardino\">Alberto Gilardino</a>, <a href=\"/en/players/e6ad16b2/Marek-Hamsik\">Marek Hamšík</a>, <a href=\"/en/players/27b041d6/Filippo-Inzaghi\">Filippo Inzaghi</a>, <a href=\"/en/players/58d97e77/Alessandro-Matri\">Alessandro Matri</a>, <a href=\"/en/players/d711d04f/Goran-Pandev\">Goran Pandev</a>, <a href=\"/en/players/6ca663b4/Giampaolo-Pazzini\">Giampaolo Pazzini</a>, <a href=\"/en/players/878ee034/Sergio-Pellissier\">Sergio Pellissier</a>, <a href=\"/en/players/12fedefa/Simone-Perrotta\">Simone Perrotta</a>, <a href=\"/en/players/71c5f16f/Andrea-Pirlo\">Andrea Pirlo</a>, <a href=\"/en/players/8b92c119/David-Pizarro\">David Pizarro</a>, <a href=\"/en/players/ee4f2f3b/Fabio-Quagliarella\">Fabio Quagliarella</a>, <a href=\"/en/players/e6af3cc7/Clarence-Seedorf\">Clarence Seedorf</a>, <a href=\"/en/players/167d7dd3/Dejan-Stankovic\">Dejan Stanković</a>, <a href=\"/en/players/dd74033b/Luca-Toni\">Luca Toni</a>, <a href=\"/en/players/ed75b6c7/Francesco-Totti\">Francesco Totti</a>, <a href=\"/en/players/2fb9e5c1/Javier-Zanetti\">Javier Zanetti</a>, <a href=\"/en/players/a54b76d3/Davy-Arnaud\">Davy Arnaud</a>, <a href=\"/en/players/3485cb96/Kyle-Beckerman\">Kyle Beckerman</a>, <a href=\"/en/players/64f28f68/Nat-Borchers\">Nat Borchers</a>, <a href=\"/en/players/94a315e2/Bobby-Boswell\">Bobby Boswell</a>, <a href=\"/en/players/65778f14/Edson-Buddle\">Edson Buddle</a>, <a href=\"/en/players/6168ede5/Brian-Carroll\">Brian Carroll</a>, <a href=\"/en/players/01856d84/Jeff-Cunningham\">Jeff Cunningham</a>, <a href=\"/en/players/7adc9ea2/Brad-Davis\">Brad Davis</a>, <a href=\"/en/players/be40ace5/Dwayne-De-Rosario\">Dwayne De Rosario</a>, <a href=\"/en/players/594d4046/Landon-Donovan\">Landon Donovan</a>, <a href=\"/en/players/5186f36e/Kevin-Hartman\">Kevin Hartman</a>, <a href=\"/en/players/bbce44d4/Chris-Henderson\">Chris Henderson</a>, <a href=\"/en/players/1b7c1cc7/Cobi-Jones\">Cobi Jones</a>, <a href=\"/en/players/6e3f3809/Kei-Kamara\">Kei Kamara</a>, <a href=\"/en/players/fd922563/Chris-Klein\">Chris Klein</a>, <a href=\"/en/players/e425a2b5/Jason-Kreis\">Jason Kreis</a>, <a href=\"/en/players/0c3f9d7f/Jeff-Larentowicz\">Jeff Larentowicz</a>, <a href=\"/en/players/116e7ee9/Mike-Magee\">Mike Magee</a>, <a href=\"/en/players/210df59e/Jesse-Marsch\">Jesse Marsch</a>, <a href=\"/en/players/ba82008e/Chad-Marshall\">Chad Marshall</a>, <a href=\"/en/players/64507e3b/Tyrone-Marshall\">Tyrone Marshall</a>, <a href=\"/en/players/220cf869/Drew-Moor\">Drew Moor</a>, <a href=\"/en/players/863c44fc/Jaime-Moreno\">Jaime Moreno</a>, <a href=\"/en/players/6910e06f/Brian-Mullan\">Brian Mullan</a>, <a href=\"/en/players/73f325d9/Dominic-Oduro\">Dominic Oduro</a>, <a href=\"/en/players/bdc561ed/Steve-Ralston\">Steve Ralston</a>, <a href=\"/en/players/bf8371ca/Ante-Razov\">Ante Razov</a>, <a href=\"/en/players/cf975d73/Nick-Rimando\">Nick Rimando</a>, <a href=\"/en/players/d84811cb/Andy-Williams\">Andy Williams</a>, <a href=\"/en/players/37f46eda/Chris-Wondolowski\">Chris Wondolowski</a>, <a href=\"/en/squads/countries/ENG/\">England</a>, <a href=\"/en/squads/countries/FRA/\">France</a>, <a href=\"/en/squads/countries/GER/\">Germany</a>, <a href=\"/en/squads/countries/ITA/\">Italy</a>, <a href=\"/en/squads/countries/ESP/\">Spain</a>, <a href=\"/en/squads/countries/USA/\">United States</a>, <a href=\"/feedback/\">let us know if you find an issue</a>, <a href=\"/en/about/email\">receive an e-mail</a>, <a href=\"https://www.sports-reference.com/blog/2018/06/fbref-com-launches-today\">Launch Blog\n",
      "Post</a>, <a href=\"/en/comps/\">leagues/competitions\n",
      "    page</a>, <a href=\"/en/about/\">About Page</a>, <a href=\"/feedback/\">Let us know if you find an issue or have a suggestion</a>, <a href=\"https://www.sports-reference.com/\">Sports-Reference.com</a>, <a href=\"/my/?do=ad_free_browsing\">Support us without the ads? Go Ad-Free.</a>, <a href=\"/my/\">Your Account</a>, <a class=\"logout\" href=\"/my/?do=logout\">Logout</a>, <a class=\"login\" href=\"/my/\">Login</a>, <a href=\"/my/\">Create Account</a>, <a href=\"/my/?do=ad_free_browsing\">Surf AD-FREE</a>, <a href=\"/\">FB Home</a>, <a href=\"/players/\" itemprop=\"item\"><span itemprop=\"name\">Players</span></a>, <a data-scroll=\"\" href=\"#header\">Return to Top</a>, <a href=\"/en/players/\">Players</a>, <a href=\"/en/players/21a66f6a/\">Harry Kane</a>, <a href=\"/en/players/d70ce98e/\">Lionel Messi</a>, <a href=\"/en/players/e342ad68/\">Mohamed Salah</a>, <a href=\"/en/players/654f4e63/\">Zinédine Zidane</a>, <a href=\"/en/players/dea698d9/\">Cristiano Ronaldo</a>, <a href=\"/en/players/69384e5d/\">Neymar</a>, <a href=\"/en/players/4cde5509/\">Zlatan Ibrahimović</a>, <a href=\"/en/players/a29c3ed6/\">Gareth Southgate</a>, <a href=\"/en/players/\">...</a>, <a href=\"/en/squads/\">Clubs</a>, <a href=\"/en/squads/054efa67/FC-Bayern-Munich\">Bayern Munich</a>, <a href=\"/en/squads/206d90db/FC-Barcelona\">FC Barcelona</a>, <a href=\"/en/squads/b8fd03ef/Manchester-City-FC\">Manchester City</a>, <a href=\"/en/squads/e0652b02/Juventus-FC\">Juventus</a>, <a href=\"/en/squads/18bb7c10/Arsenal-FC\">Arsenal</a>, <a href=\"/en/squads/e2d8892c/Paris-Saint-Germain-FC\">Paris Saint-Germain</a>, <a href=\"/en/squads/6218ebd4/Seattle-Sounders-FC\">Seattle Sounders</a>, <a href=\"/en/squads/d609edc0/Internazionale\">Inter Milan</a>, <a href=\"/en/squads/\">...</a>, <a href=\"/en/comps/season/\">Seasons</a>, <a href=\"/en/comps/season/2016\">2016</a>, <a href=\"/en/comps/season/2016-2017\">2016-17</a>, <a href=\"/en/comps/season/2017\">2017</a>, <a href=\"/en/comps/season/2017-2018\">2017-18</a>, <a href=\"/en/comps/season/\">...</a>, <a href=\"/en/comps/\">Leagues</a>, <a href=\"/en/comps/13/Championnat-de-France-de-football/\">Championnat de France de football</a>, <a href=\"/en/comps/9/Premier-League\">English Premier League</a>, <a href=\"/en/comps/22/Major-League-Soccer\">Major League Soccer</a>, <a href=\"/en/comps/20/Fussball-Bundesliga\">Bundesliga</a>, <a href=\"/en/comps/12/Primera-Division-de-Espana\">Primera División de España</a>, <a href=\"/en/comps/11/Serie-A\">Serie A</a>, <a href=\"/en/comps/10/EFL-Championship\">EFL Championship</a>, <a href=\"/en/comps/\">...</a>, <a href=\"/en/squads/country/\">Countries</a>, <a href=\"/en/squads/country/ESP\">Spain</a>, <a href=\"/en/squads/country/FRA\">France</a>, <a href=\"/en/squads/country/ITA\">Italy</a>, <a href=\"/en/squads/country/GER\">Germany</a>, <a href=\"/en/squads/country/ENG\">England</a>, <a href=\"/en/squads/country/USA\">USA</a>, <a href=\"/en/squads/country/\">...</a>, <a>World Cup</a>, <a href=\"/en/squads/world-cup-preview/RUS/2018\">Russia</a>, <a href=\"/en/squads/world-cup-preview/URU/2018\">Uruguay</a>, <a href=\"/en/squads/world-cup-preview/EGY/2018\">Egypt</a>, <a href=\"/en/squads/world-cup-preview/KSA/2018\">Saudi Arabia</a>, <a href=\"/en/squads/world-cup-preview/POR/2018\">Portugal</a>, <a href=\"/en/squads/world-cup-preview/ESP/2018\">Spain</a>, <a href=\"/en/squads/world-cup-preview/IRN/2018\">Iran</a>, <a href=\"/en/squads/world-cup-preview/MAR/2018\">Morocco</a>, <a href=\"/en/squads/world-cup-preview/FRA/2018\">France</a>, <a href=\"/en/squads/world-cup-preview/PER/2018\">Peru</a>, <a href=\"/en/squads/world-cup-preview/DEN/2018\">Denmark</a>, <a href=\"/en/squads/world-cup-preview/AUS/2018\">Australia</a>, <a href=\"/en/squads/world-cup-preview/ARG/2018\">Argentina</a>, <a href=\"/en/squads/world-cup-preview/CRO/2018\">Croatia</a>, <a href=\"/en/squads/world-cup-preview/ISL/2018\">Iceland</a>, <a href=\"/en/squads/world-cup-preview/NGA/2018\">Nigeria</a>, <a href=\"/en/squads/world-cup-preview/BRA/2018\">Brazil</a>, <a href=\"/en/squads/world-cup-preview/SUI/2018\">Switzerland</a>, <a href=\"/en/squads/world-cup-preview/CRC/2018\">Costa Rica</a>, <a href=\"/en/squads/world-cup-preview/SRB/2018\">Serbia</a>, <a href=\"/en/squads/world-cup-preview/GER/2018\">Germany</a>, <a href=\"/en/squads/world-cup-preview/MEX/2018\">Mexico</a>, <a href=\"/en/squads/world-cup-preview/SWE/2018\">Sweden</a>, <a href=\"/en/squads/world-cup-preview/KOR/2018\">South Korea</a>, <a href=\"/en/squads/world-cup-preview/BEL/2018\">Belgium</a>, <a href=\"/en/squads/world-cup-preview/ENG/2018\">England</a>, <a href=\"/en/squads/world-cup-preview/TUN/2018\">Tunisia</a>, <a href=\"/en/squads/world-cup-preview/PAN/2018\">Panama</a>, <a href=\"/en/squads/world-cup-preview/POL/2018\">Poland</a>, <a href=\"/en/squads/world-cup-preview/COL/2018\">Colombia</a>, <a href=\"/en/squads/world-cup-preview/SEN/2018\">Senegal</a>, <a href=\"/en/squads/world-cup-preview/JPN/2018\">Japan</a>, <a class=\"poptip\" data-label=\"Telephone\" data-tip=\"Call us on Telephone\" href=\"tel://888-512-8907\"><svg class=\"icon phone\"><use xlink:href=\"#ic-phone\"></use></svg></a>, <a class=\"poptip\" data-label=\"Our Blog\" data-tip=\"The Sports Reference Blog\" href=\"//www.sports-reference.com/blog/\"><svg class=\"icon wordpress\"><use xlink:href=\"#ic-wordpress\"></use></svg></a>, <a class=\"poptip\" data-label=\"RSS Feed\" data-tip=\"Our Blog's RSS Feed\" href=\"https://www.sports-reference.com/blog/feed/\"><svg class=\"icon rss\"><use xlink:href=\"#ic-rss\"></use></svg></a>, <a class=\"poptip\" data-label=\"Twitter\" data-tip=\"FBref.com at Twitter\" href=\"https://twitter.com/FBref\"><svg class=\"icon twitter\"><use xlink:href=\"#ic-twitter\"></use></svg></a>, <a class=\"poptip\" data-label=\"Reddit/r/SR\" data-tip=\"Reddit/r/SportsReference\" href=\"https://reddit.com/r/SportsReference\"><svg class=\"icon reddit\"><use xlink:href=\"#ic-reddit\"></use></svg></a>, <a class=\"poptip\" data-label=\"YouTube\" data-tip=\"YouTube/SportsReference\" href=\"https://www.youtube.com/user/sportsreference\"><svg class=\"icon youtube\"><use xlink:href=\"#ic-youtube\"></use></svg></a>, <a class=\"poptip\" data-label=\"LinkedIn\" data-tip=\"Follow SR on LinkedIn\" href=\"https://www.linkedin.com/company/sports-reference-llc\"><svg class=\"icon linkedin\"><use xlink:href=\"#ic-linkedin\"></use></svg></a>, <a class=\"poptip\" data-label=\"PayPal\" data-tip=\"Send us money via PayPal\" href=\"https://www.paypal.me/sportsref\"><svg class=\"icon paypal\"><use xlink:href=\"#ic-paypal\"></use></svg></a>, <a href=\"https://www.sports-reference.com/blog/sports-reference-social-media/\">Sports Reference Social Media Account</a>, <a class=\"button alt\" href=\"https://www.sports-reference.com/feedback/\">Question, Comment, Feedback, or Correction?</a>, <a class=\"button alt\" href=\"https://stathead.com/\" style=\"background-color:#8e4496; color: #fff;\">Are you a Stathead, too? Subscribe to our Newsletter</a>, <a href=\"https://www.sports-reference.com/blog/2018/06/fbref-com-launches-today\">FBref Launch Post: What we've done, what we have and what's next.</a>, <a href=\"//www.sports-reference.com/blog/category/tips-and-tricks/\">Tips and Tricks from our Blog.</a>, <a href=\"/linker/\">Do you have a blog? Join our linker program.</a>, <a href=\"//www.sports-reference.com/blog/category/how-to-videos/\">Watch our How-To Videos to Become a Stathead</a>, <a href=\"/my/?do=ad_free_browsing\">Go ad-free to support Sports Reference and get our fastest browsing experience</a>, <a href=\"//www.baseball-reference.com/play-index/\">Subscribe to the Play Index and get access to more data than you can imagine</a>, <a href=\"https://www.sports-reference.com/blog/2016/06/redesign-team-and-league-logos-courtesy-sportslogos-net/\">Our reasoning for presenting offensive logos.</a>, <a href=\"http://sportslogos.net/\">SportsLogos.net.</a>, <a href=\"//www.sports-reference.com/\">Sports Reference LLC</a>, <a href=\"https://www.sports-reference.com/\"><svg height=\"15px\" width=\"20px\"><use xlink:href=\"#ic-sr-pennant\"></use></svg> Sports Reference</a>, <a href=\"https://www.baseball-reference.com/\">Baseball</a>, <a href=\"https://www.pro-football-reference.com/\">Football</a>, <a href=\"https://www.sports-reference.com/cfb/\">(college)</a>, <a href=\"https://www.basketball-reference.com/\">Basketball</a>, <a href=\"https://www.sports-reference.com/cbb/\">(college)</a>, <a href=\"https://www.hockey-reference.com/\">Hockey</a>, <a href=\"https://fbref.com/\">Soccer</a>, <a href=\"https://www.sports-reference.com/blog/\">Blog</a>, <a href=\"https://stathead.com/\">Stathead</a>, <a href=\"https://widgets.sports-reference.com/\">Widgets</a>, <a href=\"//www.sports-reference.com/about.html\">About</a>, <a href=\"//www.sports-reference.com/privacy.html\">Privacy Statement</a>, <a href=\"//www.sports-reference.com/termsofuse.html\">Conditions &amp; Terms of Service</a>, <a href=\"//www.sports-reference.com/data_use.html\">Use of Data</a>]\n"
     ]
    }
   ],
   "source": [
    "print(link_lst)"
   ]
  },
  {
   "cell_type": "code",
   "execution_count": null,
   "metadata": {},
   "outputs": [],
   "source": [
    "#use re to pull out player links from list\n",
    "\n",
    "player_lst = []\n",
    "for player in link_lst: \n",
    "    if \n",
    "    player_lst.append(player)"
   ]
  },
  {
   "cell_type": "markdown",
   "metadata": {},
   "source": [
    "## Aproach 2"
   ]
  },
  {
   "cell_type": "code",
   "execution_count": 71,
   "metadata": {},
   "outputs": [],
   "source": [
    "from __future__ import print_function, division\n",
    "import requests\n",
    "from bs4 import BeautifulSoup\n",
    "import re\n",
    "#import urllib2\n",
    "from urllib.request import urlopen"
   ]
  },
  {
   "cell_type": "code",
   "execution_count": 72,
   "metadata": {},
   "outputs": [
    {
     "name": "stderr",
     "output_type": "stream",
     "text": [
      "/Users/andreacsorcinelli/anaconda3/lib/python3.6/site-packages/bs4/__init__.py:181: UserWarning: No parser was explicitly specified, so I'm using the best available HTML parser for this system (\"lxml\"). This usually isn't a problem, but if you run this code on another system, or in a different virtual environment, it may use a different parser and behave differently.\n",
      "\n",
      "The code that caused this warning is on line 193 of the file /Users/andreacsorcinelli/anaconda3/lib/python3.6/runpy.py. To get rid of this warning, change code that looks like this:\n",
      "\n",
      " BeautifulSoup(YOUR_MARKUP})\n",
      "\n",
      "to this:\n",
      "\n",
      " BeautifulSoup(YOUR_MARKUP, \"lxml\")\n",
      "\n",
      "  markup_type=markup_type))\n"
     ]
    }
   ],
   "source": [
    "html_page = urlopen(\"https://fbref.com/en/players/\")\n",
    "soup = BeautifulSoup(html_page)"
   ]
  },
  {
   "cell_type": "code",
   "execution_count": 76,
   "metadata": {},
   "outputs": [
    {
     "name": "stdout",
     "output_type": "stream",
     "text": [
      "['http://sportslogos.net/']\n"
     ]
    }
   ],
   "source": [
    "link_lst = []\n",
    "\n",
    "for link in soup.findAll('a', attrs={'href': re.compile(\"^http://\")}):\n",
    "    link_lst.append(link.get('href'))\n",
    " \n",
    "print(link_lst)"
   ]
  },
  {
   "cell_type": "code",
   "execution_count": null,
   "metadata": {},
   "outputs": [],
   "source": []
  }
 ],
 "metadata": {
  "kernelspec": {
   "display_name": "Python 3",
   "language": "python",
   "name": "python3"
  },
  "language_info": {
   "codemirror_mode": {
    "name": "ipython",
    "version": 3
   },
   "file_extension": ".py",
   "mimetype": "text/x-python",
   "name": "python",
   "nbconvert_exporter": "python",
   "pygments_lexer": "ipython3",
   "version": "3.6.5"
  }
 },
 "nbformat": 4,
 "nbformat_minor": 2
}
